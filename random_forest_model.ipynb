{
 "cells": [
  {
   "cell_type": "code",
   "execution_count": 1,
   "metadata": {},
   "outputs": [
    {
     "name": "stdout",
     "output_type": "stream",
     "text": [
      "Parameters currently in use:\n",
      "\n",
      "{'bootstrap': True,\n",
      " 'ccp_alpha': 0.0,\n",
      " 'class_weight': None,\n",
      " 'criterion': 'gini',\n",
      " 'max_depth': None,\n",
      " 'max_features': 9,\n",
      " 'max_leaf_nodes': None,\n",
      " 'max_samples': None,\n",
      " 'min_impurity_decrease': 0.0,\n",
      " 'min_impurity_split': None,\n",
      " 'min_samples_leaf': 1,\n",
      " 'min_samples_split': 2,\n",
      " 'min_weight_fraction_leaf': 0.0,\n",
      " 'n_estimators': 100,\n",
      " 'n_jobs': None,\n",
      " 'oob_score': False,\n",
      " 'random_state': 42,\n",
      " 'verbose': 0,\n",
      " 'warm_start': False}\n",
      "CPU times: user 3.66 s, sys: 4.5 s, total: 8.16 s\n",
      "Wall time: 3.06 s\n"
     ]
    }
   ],
   "source": [
    "%%time\n",
    "import pickle \n",
    "import pandas as pd\n",
    "import numpy as np\n",
    "import math\n",
    "my_data = pd.read_pickle(\"5log_signature_1cyclePerSec_2015_weeks_8_9\")\n",
    "#drop column of ones\n",
    "columns = 1 + np.arange(my_data.shape[1] - 1)\n",
    "my_data = my_data[columns]\n",
    "\n",
    "#get features\n",
    "features = 1 + np.arange(my_data.shape[1] - 1)\n",
    "X, y = my_data[features], my_data[my_data.shape[1]]\n",
    "\n",
    "#train dev test 60 20 20\n",
    "breakpoint1 = int(0.6 * my_data.shape[0])\n",
    "breakpoint2 = int(0.8 * my_data.shape[0])\n",
    "\n",
    "X_train, y_train = X[:breakpoint1], y[:breakpoint1]\n",
    "\n",
    "X_dev, y_dev = X[breakpoint1:breakpoint2], y[breakpoint1:breakpoint2]\n",
    "\n",
    "X_test, y_test = X[breakpoint2:], y[breakpoint2:]\n",
    "\n",
    "from sklearn.ensemble import RandomForestClassifier\n",
    "rf = RandomForestClassifier(random_state = 42, max_features = math.ceil(math.sqrt(len(features))))\n",
    "from pprint import pprint\n",
    "print('Parameters currently in use:\\n')\n",
    "pprint(rf.get_params())\n",
    "\n",
    "rf.fit(X_train, y_train)\n",
    "\n",
    "y_pred_dev = rf.predict(X_dev)\n",
    "y_pred_train = rf.predict(X_train)\n",
    "\n",
    "from sklearn import metrics\n",
    "#print(\"Validation accuracy \", metrics.accuracy_score(y_dev, y_pred_dev))\n",
    "#print(\"Accuracy:\",metrics.accuracy_score(y_dev, y_pred_dev))\n",
    "print(\"Training error: \" + str(round( (1 - metrics.accuracy_score(y_train, y_pred_train) )*100, 2)) + \"%\") \n",
    "print(\"Validation error: \" + str(round( (1 - metrics.accuracy_score(y_dev, y_pred_dev) )*100, 2)) + \"%\") \n",
    "\n",
    "\n",
    "importances = list(rf.feature_importances_)\n",
    "feature_importances = [(feature, round(importance, 2)) for feature, importance in zip(features, importances)]\n",
    "feature_importances = sorted(feature_importances, key = lambda x: x[1], reverse = True)\n",
    "[print('Variable: {:20} Importance: {}'.format(*pair)) for pair in feature_importances];\n",
    "\n",
    "\n"
   ]
  },
  {
   "cell_type": "code",
   "execution_count": 4,
   "metadata": {},
   "outputs": [],
   "source": [
    "y_test.to_pickle(\"true_labels\")"
   ]
  },
  {
   "cell_type": "code",
   "execution_count": 50,
   "metadata": {},
   "outputs": [
    {
     "data": {
      "image/png": "[encoded data removed]",
      "text/plain": [
       "<Figure size 432x288 with 1 Axes>"
      ]
     },
     "metadata": {
      "needs_background": "light"
     },
     "output_type": "display_data"
    },
    {
     "data": {
      "image/png": "[encoded data removed]",
      "text/plain": [
       "<Figure size 921.6x345.6 with 1 Axes>"
      ]
     },
     "metadata": {
      "needs_background": "light"
     },
     "output_type": "display_data"
    }
   ],
   "source": [
    "import numpy as np\n",
    "import matplotlib.pyplot as plt\n",
    "\n",
    "x=np.arange(1,80)\n",
    "plt.plot(x,np.cumsum(sorted(np.array(importances)*100, reverse=True)))\n",
    "\n",
    "a = 26\n",
    "b = sum(sorted(importances, reverse=True)[:27])\n",
    "\n",
    "fig = plt.figure(figsize=(12.8,4.8))\n",
    "ax2=plt.axes()\n",
    "ax2.plot((26,26),(0,83.23), 'm')\n",
    "ax2.plot((0,26),(83.23,83.23), 'm')\n",
    "ax2.set_xlim([0,80])\n",
    "ax2.set_ylim([0,102])\n",
    "ax2.set_xlabel(\"features ordered in decreasing order of their importance\")\n",
    "plt.show()"
   ]
  },
  {
   "cell_type": "code",
   "execution_count": 33,
   "metadata": {},
   "outputs": [
    {
     "data": {
      "text/plain": [
       "0.8323741969678247"
      ]
     },
     "execution_count": 33,
     "metadata": {},
     "output_type": "execute_result"
    }
   ],
   "source": [
    "b"
   ]
  },
  {
   "cell_type": "code",
   "execution_count": 4,
   "metadata": {},
   "outputs": [
    {
     "name": "stdout",
     "output_type": "stream",
     "text": [
      "Accuracy on new data: 89.33%\n"
     ]
    }
   ],
   "source": [
    "y_pred_test = rf.predict(X_test)\n",
    "print(\"Accuracy on new data: \" + str(round( metrics.accuracy_score(y_test, y_pred_test)*100, 2)) + \"%\") "
   ]
  },
  {
   "cell_type": "code",
   "execution_count": 34,
   "metadata": {},
   "outputs": [
    {
     "name": "stdout",
     "output_type": "stream",
     "text": [
      "Parameters currently in use:\n",
      "\n",
      "{'bootstrap': True,\n",
      " 'ccp_alpha': 0.0,\n",
      " 'class_weight': None,\n",
      " 'criterion': 'gini',\n",
      " 'max_depth': None,\n",
      " 'max_features': 3,\n",
      " 'max_leaf_nodes': None,\n",
      " 'max_samples': None,\n",
      " 'min_impurity_decrease': 0.0,\n",
      " 'min_impurity_split': None,\n",
      " 'min_samples_leaf': 1,\n",
      " 'min_samples_split': 2,\n",
      " 'min_weight_fraction_leaf': 0.0,\n",
      " 'n_estimators': 100,\n",
      " 'n_jobs': None,\n",
      " 'oob_score': False,\n",
      " 'random_state': 42,\n",
      " 'verbose': 0,\n",
      " 'warm_start': False}\n",
      "Training error: 0.19%\n",
      "Validation error: 6.42%\n",
      "Variable:                    9 Importance: 0.4\n",
      "Variable:                    4 Importance: 0.22\n",
      "Variable:                   10 Importance: 0.19\n",
      "Variable:                   42 Importance: 0.11\n",
      "Variable:                   60 Importance: 0.08\n",
      "CPU times: user 6min 47s, sys: 1.75 s, total: 6min 49s\n",
      "Wall time: 6min 49s\n"
     ]
    },
    {
     "data": {
      "text/plain": [
       "[None, None, None, None, None]"
      ]
     },
     "execution_count": 34,
     "metadata": {},
     "output_type": "execute_result"
    }
   ],
   "source": [
    "%%time\n",
    "import pickle \n",
    "import pandas as pd\n",
    "import numpy as np\n",
    "import math\n",
    "my_data = pd.read_pickle(\"5log_signature_1cyclePerSec_2015_weeks_8_9\")\n",
    "#drop column of ones\n",
    "columns = 1 + np.arange(my_data.shape[1] - 1)\n",
    "my_data = my_data[columns]\n",
    "\n",
    "#get features\n",
    "features = [9,4,10,42,60]\n",
    "X, y = my_data[features], my_data[my_data.shape[1]]\n",
    "\n",
    "#train dev test 80 10 10\n",
    "breakpoint1 = int(0.8 * my_data.shape[0])\n",
    "breakpoint2 = int(0.9 * my_data.shape[0])\n",
    "\n",
    "X_train, y_train = X[:breakpoint1], y[:breakpoint1]\n",
    "\n",
    "X_dev, y_dev = X[breakpoint1:breakpoint2], y[breakpoint1:breakpoint2]\n",
    "\n",
    "X_test, y_test = X[breakpoint2:], y[breakpoint2:]\n",
    "\n",
    "from sklearn.ensemble import RandomForestClassifier\n",
    "rf = RandomForestClassifier(random_state = 42, max_features = math.ceil(math.sqrt(len(features))))\n",
    "from pprint import pprint\n",
    "print('Parameters currently in use:\\n')\n",
    "pprint(rf.get_params())\n",
    "\n",
    "\n",
    "rf.fit(X_train, y_train)\n",
    "\n",
    "y_pred_dev = rf.predict(X_dev)\n",
    "y_pred_train = rf.predict(X_train)\n",
    "\n",
    "from sklearn import metrics\n",
    "#print(\"Validation accuracy \", metrics.accuracy_score(y_dev, y_pred_dev))\n",
    "#print(\"Accuracy:\",metrics.accuracy_score(y_dev, y_pred_dev))\n",
    "print(\"Training error: \" + str(round( (1 - metrics.accuracy_score(y_train, y_pred_train) )*100, 2)) + \"%\") \n",
    "print(\"Validation error: \" + str(round( (1 - metrics.accuracy_score(y_dev, y_pred_dev) )*100, 2)) + \"%\") \n",
    "\n",
    "\n",
    "importances = list(rf.feature_importances_)\n",
    "feature_importances = [(feature, round(importance, 2)) for feature, importance in zip(features, importances)]\n",
    "feature_importances = sorted(feature_importances, key = lambda x: x[1], reverse = True)\n",
    "[print('Variable: {:20} Importance: {}'.format(*pair)) for pair in feature_importances];"
   ]
  },
  {
   "cell_type": "code",
   "execution_count": 35,
   "metadata": {},
   "outputs": [
    {
     "name": "stdout",
     "output_type": "stream",
     "text": [
      "Accuracy on new data: 86.32%\n"
     ]
    }
   ],
   "source": [
    "y_pred_test = rf.predict(X_test)\n",
    "print(\"Accuracy on new data: \" + str(round( metrics.accuracy_score(y_test, y_pred_test)*100, 2)) + \"%\") "
   ]
  },
  {
   "cell_type": "code",
   "execution_count": null,
   "metadata": {},
   "outputs": [],
   "source": []
  },
  {
   "cell_type": "code",
   "execution_count": 16,
   "metadata": {},
   "outputs": [
    {
     "name": "stdout",
     "output_type": "stream",
     "text": [
      "For 0.6 we have the following: \n",
      "Training error: 0.22%\n",
      "Validation error: 12.46%\n",
      "---\n",
      "For 0.7 we have the following: \n",
      "Training error: 0.21%\n",
      "Validation error: 12.56%\n",
      "---\n",
      "For 0.8 we have the following: \n",
      "Training error: 0.2%\n",
      "Validation error: 13.11%\n",
      "---\n",
      "For 0.9 we have the following: \n",
      "Training error: 0.2%\n",
      "Validation error: 11.77%\n",
      "---\n",
      "For 1 we have the following: \n",
      "Training error: 0.19%\n",
      "Validation error: 11.55%\n",
      "---\n"
     ]
    }
   ],
   "source": [
    "proportions = [0.1, 0.2, 0.3, 0.4, 0.5, 0.6,0.7,0.8,0.9,1]\n",
    "for proportion in proportions:\n",
    "    from sklearn.ensemble import RandomForestClassifier\n",
    "    rf = RandomForestClassifier(random_state = 42, max_features = math.ceil(math.sqrt(len(top_features))))\n",
    "    #from pprint import pprint\n",
    "    #print('Parameters currently in use:\\n')\n",
    "    #pprint(rf.get_params())\n",
    "\n",
    "    neww_train = new_train[:int(proportion*new_train.shape[0])]\n",
    "    yy_train = y_train[:int(proportion*new_train.shape[0])]\n",
    "    rf.fit(neww_train, yy_train)\n",
    "\n",
    "    new_pred_dev = rf.predict(new_dev)\n",
    "    new_pred_train = rf.predict(neww_train)\n",
    "\n",
    "    from sklearn import metrics\n",
    "    #print(\"Validation accuracy \", metrics.accuracy_score(y_dev, y_pred_dev))\n",
    "    #print(\"Accuracy:\",metrics.accuracy_score(y_dev, y_pred_dev))\n",
    "    print(\"For \" + str(proportion) + \" we have the following: \")\n",
    "    print(\"Training error: \" + str(round( (1 - metrics.accuracy_score(yy_train, new_pred_train) )*100, 2)) + \"%\") \n",
    "    print(\"Validation error: \" + str(round( (1 - metrics.accuracy_score(y_dev, new_pred_dev) )*100, 2)) + \"%\") \n",
    "    print(\"---\")\n",
    "\n"
   ]
  },
  {
   "cell_type": "code",
   "execution_count": 17,
   "metadata": {},
   "outputs": [],
   "source": [
    "from matplotlib import pyplot as plt"
   ]
  },
  {
   "cell_type": "code",
   "execution_count": 44,
   "metadata": {},
   "outputs": [
    {
     "data": {
      "image/png": "[encoded data removed]",
      "text/plain": [
       "<Figure size 864x288 with 1 Axes>"
      ]
     },
     "metadata": {
      "needs_background": "light"
     },
     "output_type": "display_data"
    },
    {
     "data": {
      "text/plain": [
       "Text(0.5, 1.0, 'RF model 60 - 20 - 20 (ignoring test data for now), top 5 features, max_features = 3')"
      ]
     },
     "execution_count": 44,
     "metadata": {},
     "output_type": "execute_result"
    },
    {
     "data": {
      "image/png": "[encoded data removed]",
      "text/plain": [
       "<Figure size 432x288 with 1 Axes>"
      ]
     },
     "metadata": {
      "needs_background": "light"
     },
     "output_type": "display_data"
    }
   ],
   "source": [
    "training = [0.21, 0.21, 0.23, 0.25, 0.24, 0.22, 0.21, 0.2, 0.2, 0.19]\n",
    "validation = [20.43, 16.14, 14.49, 12.55, 13.44, 12.46, 12.56, 13.11, 11.77, 11.55]\n",
    "proportions = [0.1, 0.2, 0.3, 0.4, 0.5, 0.6, 0.7, 0.8, 0.9, 1]\n",
    "\n",
    "fig = plt.figure(figsize = (12,4))\n",
    "\n",
    "training_plot, = plt.plot(proportions, training, 'r-')\n",
    "validation_plot, = plt.plot(proportions, validation, 'b-')\n",
    "plt.legend([training_plot, validation_plot],[\"training error\", \"validation error\"])\n",
    "plt.axhline(y=min(validation), color='b', linestyle='--')\n",
    "plt.show()\n",
    "plt.xlabel(\"proportion of training data used\")\n",
    "plt.ylabel(\"error in percentage\")\n",
    "plt.title(\"RF model 60 - 20 - 20 (ignoring test data for now), top 5 features, max_features = 3\")"
   ]
  },
  {
   "cell_type": "code",
   "execution_count": 27,
   "metadata": {},
   "outputs": [
    {
     "data": {
      "text/plain": [
       "Text(0.5, 1.0, 'RF model 60 - 20 - 20 (ignoring test data for now), top 5 features, max_features = 3, min_samples_leaf tuned')"
      ]
     },
     "execution_count": 27,
     "metadata": {},
     "output_type": "execute_result"
    },
    {
     "data": {
      "image/png": "[encoded data removed]",
      "text/plain": [
       "<Figure size 864x288 with 1 Axes>"
      ]
     },
     "metadata": {
      "needs_background": "light"
     },
     "output_type": "display_data"
    }
   ],
   "source": [
    "validation_error = [11.61, 11.61, 11.8, 11.82, 12.46, 12.58, 19.08]\n",
    "training_error = [2.02, 2.64, 3.51, 4.33, 6.96, 8.2, 13.58]\n",
    "min_samples_leaf = [10, 20, 50, 100, 500, 1000, 10000]\n",
    "\n",
    "validation_error = [11.55, 11.61, 11.82, ]\n",
    "training_error = [0.19, 2.02, 4.33, 8.2, 13.58]\n",
    "min_samples_leaf = [1, 10, 20, 50, 100, 500, 1000, 10000]\n",
    "\n",
    "fig = plt.figure(figsize = (12,4))\n",
    "\n",
    "training_plot, = plt.plot(min_samples_leaf, training_error, 'r+')\n",
    "validation_plot, = plt.plot(min_samples_leaf, validation_error, 'b+')\n",
    "plt.legend([training_plot, validation_plot],[\"training error\", \"validation error\"])\n",
    "plt.xlabel(\"proportion of training data used\")\n",
    "plt.ylabel(\"error in percentage\")\n",
    "plt.title(\"RF model 60 - 20 - 20 (ignoring test data for now), top 5 features, max_features = 3, min_samples_leaf tuned\")"
   ]
  },
  {
   "cell_type": "markdown",
   "metadata": {},
   "source": [
    "# First and foremost, select signature degree using untuned hyperparameters"
   ]
  },
  {
   "cell_type": "code",
   "execution_count": 4,
   "metadata": {},
   "outputs": [
    {
     "data": {
      "image/png": "[encoded data removed]",
      "text/plain": [
       "<Figure size 864x288 with 1 Axes>"
      ]
     },
     "metadata": {
      "needs_background": "light"
     },
     "output_type": "display_data"
    },
    {
     "data": {
      "text/plain": [
       "<Figure size 432x288 with 0 Axes>"
      ]
     },
     "metadata": {},
     "output_type": "display_data"
    }
   ],
   "source": [
    "from pathlib import Path\n",
    "from matplotlib.pyplot import figure, draw\n",
    "from matplotlib import pyplot as plt\n",
    "fn = Path('/scratch/iliant/sigdeg.svg').expanduser()\n",
    "\n",
    "\n",
    "\n",
    "\n",
    "\n",
    "\n",
    "\n",
    "import matplotlib.pyplot as plt\n",
    "import numpy as np\n",
    "training = []\n",
    "validation = [21.56, 9.55, 7.4, 7.1, 7.28, 7.12]\n",
    "validation = np.round(np.array(validation)/100,2)\n",
    "sigdeg = [2, 3, 4, 5, 6, 7]\n",
    "\n",
    "fig2 = plt.figure(figsize = (12,4))\n",
    "\n",
    "#training_plot, = plt.plot(sigdeg, training, 'r-');\n",
    "validation_plot, = plt.plot(sigdeg, validation, 'b-');\n",
    "plt.legend([validation_plot],[\"validation error\"])\n",
    "plt.axhline(y=min(validation), color='b', linestyle='--')\n",
    "#plt.axhline(y=7.28, color='g', linestyle='--')\n",
    "#plt.axhline(y=min(training), color = 'r', linestyle='--')\n",
    "plt.plot((5, 5), (0, 0.07), 'g-');\n",
    "plt.xlabel(\"signature degree\", fontsize=13)\n",
    "plt.ylabel(\"error\", fontsize = 13)\n",
    "plt.tick_params(labelsize = 'large')\n",
    "#plt.title(\"RF model 60 - 20 - 20, top 26 features, max_features = 6\")\n",
    "plt.ylim([0,0.3])\n",
    "plt.xlim([2,7])\n",
    "plt.show()\n",
    "\n",
    "draw() # necessary to render figure before saving\n",
    "fig2.savefig(fn, bbox_inches='tight')\n",
    "\n",
    "\n"
   ]
  },
  {
   "cell_type": "markdown",
   "metadata": {},
   "source": [
    "# Select top 26 features\n",
    "\n",
    "The 5th signature degree got a better result than the 6th signature degree.\n",
    "In the 6th signature model, the 27th feature does not belong to the 5th degree set of columns.\n",
    "Thus we select the top 26 features for the rest of the model."
   ]
  },
  {
   "cell_type": "code",
   "execution_count": 2,
   "metadata": {},
   "outputs": [
    {
     "name": "stdout",
     "output_type": "stream",
     "text": [
      "CPU times: user 7min 28s, sys: 1.15 s, total: 7min 29s\n",
      "Wall time: 7min 29s\n"
     ]
    }
   ],
   "source": [
    "%%time\n",
    "\n",
    "feature = [9,4,60,7,10,42,17,5,23,25,29,51,2,11,15,18,22,30,39,41,44,46,52,54,57,66]\n",
    "\n",
    "for proportion in [1]:\n",
    "    features = feature[:int(proportion*len(feature))]\n",
    "\n",
    "    X, y = my_data[features], my_data[my_data.shape[1]]\n",
    "\n",
    "    #train dev test 60 20 20\n",
    "    breakpoint1 = int(0.6 * my_data.shape[0])\n",
    "    breakpoint2 = int(0.8 * my_data.shape[0])\n",
    "\n",
    "    X_train, y_train = X[:breakpoint1], y[:breakpoint1]\n",
    "\n",
    "    X_dev, y_dev = X[breakpoint1:breakpoint2], y[breakpoint1:breakpoint2]\n",
    "\n",
    "    X_test, y_test = X[breakpoint2:], y[breakpoint2:]\n",
    "    \n",
    "    \n",
    "\n",
    "    from sklearn.ensemble import RandomForestClassifier\n",
    "    rf = RandomForestClassifier(random_state = 42, max_features = math.ceil(math.sqrt(len(features))), max_depth = 29)\n",
    "    #from pprint import pprint\n",
    "    #print('Parameters currently in use:\\n')\n",
    "    #pprint(rf.get_params())\n",
    "\n",
    "\n",
    "    rf.fit(X_train, y_train)\n",
    "\n",
    "    y_pred_dev = rf.predict(X_dev)\n",
    "    y_pred_train = rf.predict(X_train)\n",
    "\n",
    "\n",
    "    y_pred_test = rf.predict(X_test)\n",
    "\n",
    "    predictions_all = np.array([tree.predict(X_dev) for tree in rf.estimators_])\n",
    "\n",
    "    #from sklearn import metrics\n",
    "    #print(\"Validation accuracy \", metrics.accuracy_score(y_dev, y_pred_dev))\n",
    "    #print(\"Accuracy:\",metrics.accuracy_score(y_dev, y_pred_dev))\n",
    "    #print(\"Training error: \" + str(round( (1 - metrics.accuracy_score(y_train, y_pred_train) )*100, 2)) + \"%\") \n",
    "    #print(\"Validation error: \" + str(round( (1 - metrics.accuracy_score(y_dev, y_pred_dev) )*100, 2)) + \"%\") \n",
    "    \n",
    "\n",
    "    #importances = list(rf.feature_importances_)\n",
    "    #feature_importances = [(feature, round(importance, 2)) for feature, importance in zip(features, importances)]\n",
    "    #feature_importances = sorted(feature_importances, key = lambda x: x[1], reverse = True)\n",
    "    #[print('Variable: {:20} Importance: {}'.format(*pair)) for pair in feature_importances];"
   ]
  },
  {
   "cell_type": "code",
   "execution_count": 12,
   "metadata": {},
   "outputs": [],
   "source": [
    "import pickle \n",
    "\n",
    "pd.DataFrame(y_test).to_pickle(\"test_RF\")"
   ]
  },
  {
   "cell_type": "code",
   "execution_count": 4,
   "metadata": {},
   "outputs": [
    {
     "ename": "KeyboardInterrupt",
     "evalue": "",
     "output_type": "error",
     "traceback": [
      "\u001b[0;31m---------------------------------------------------------------------------\u001b[0m",
      "\u001b[0;31mKeyboardInterrupt\u001b[0m                         Traceback (most recent call last)",
      "\u001b[0;32m<ipython-input-4-52b8ba4601fe>\u001b[0m in \u001b[0;36m<module>\u001b[0;34m\u001b[0m\n\u001b[1;32m      1\u001b[0m \u001b[0mdistributions\u001b[0m \u001b[0;34m=\u001b[0m \u001b[0mnp\u001b[0m\u001b[0;34m.\u001b[0m\u001b[0mempty\u001b[0m\u001b[0;34m(\u001b[0m\u001b[0;36m0\u001b[0m\u001b[0;34m)\u001b[0m\u001b[0;34m\u001b[0m\u001b[0;34m\u001b[0m\u001b[0m\n\u001b[1;32m      2\u001b[0m \u001b[0;32mfor\u001b[0m \u001b[0mi\u001b[0m \u001b[0;32min\u001b[0m \u001b[0mrange\u001b[0m\u001b[0;34m(\u001b[0m\u001b[0;36m247174\u001b[0m\u001b[0;34m)\u001b[0m\u001b[0;34m:\u001b[0m\u001b[0;34m\u001b[0m\u001b[0;34m\u001b[0m\u001b[0m\n\u001b[0;32m----> 3\u001b[0;31m     \u001b[0mdistributions\u001b[0m \u001b[0;34m=\u001b[0m \u001b[0mnp\u001b[0m\u001b[0;34m.\u001b[0m\u001b[0mappend\u001b[0m\u001b[0;34m(\u001b[0m\u001b[0mdistributions\u001b[0m\u001b[0;34m,\u001b[0m \u001b[0;34m(\u001b[0m\u001b[0;36m100\u001b[0m\u001b[0;34m-\u001b[0m\u001b[0msum\u001b[0m\u001b[0;34m(\u001b[0m\u001b[0mpredictions_all\u001b[0m\u001b[0;34m[\u001b[0m\u001b[0;34m:\u001b[0m\u001b[0;34m,\u001b[0m\u001b[0mi\u001b[0m\u001b[0;34m]\u001b[0m\u001b[0;34m)\u001b[0m\u001b[0;34m)\u001b[0m\u001b[0;34m/\u001b[0m\u001b[0;36m100\u001b[0m\u001b[0;34m)\u001b[0m\u001b[0;34m\u001b[0m\u001b[0;34m\u001b[0m\u001b[0m\n\u001b[0m",
      "\u001b[0;32m<__array_function__ internals>\u001b[0m in \u001b[0;36mappend\u001b[0;34m(*args, **kwargs)\u001b[0m\n",
      "\u001b[0;32m~/.virtualenvs/dale/lib/python3.6/site-packages/numpy/lib/function_base.py\u001b[0m in \u001b[0;36mappend\u001b[0;34m(arr, values, axis)\u001b[0m\n\u001b[1;32m   4691\u001b[0m         \u001b[0mvalues\u001b[0m \u001b[0;34m=\u001b[0m \u001b[0mravel\u001b[0m\u001b[0;34m(\u001b[0m\u001b[0mvalues\u001b[0m\u001b[0;34m)\u001b[0m\u001b[0;34m\u001b[0m\u001b[0;34m\u001b[0m\u001b[0m\n\u001b[1;32m   4692\u001b[0m         \u001b[0maxis\u001b[0m \u001b[0;34m=\u001b[0m \u001b[0marr\u001b[0m\u001b[0;34m.\u001b[0m\u001b[0mndim\u001b[0m\u001b[0;34m-\u001b[0m\u001b[0;36m1\u001b[0m\u001b[0;34m\u001b[0m\u001b[0;34m\u001b[0m\u001b[0m\n\u001b[0;32m-> 4693\u001b[0;31m     \u001b[0;32mreturn\u001b[0m \u001b[0mconcatenate\u001b[0m\u001b[0;34m(\u001b[0m\u001b[0;34m(\u001b[0m\u001b[0marr\u001b[0m\u001b[0;34m,\u001b[0m \u001b[0mvalues\u001b[0m\u001b[0;34m)\u001b[0m\u001b[0;34m,\u001b[0m \u001b[0maxis\u001b[0m\u001b[0;34m=\u001b[0m\u001b[0maxis\u001b[0m\u001b[0;34m)\u001b[0m\u001b[0;34m\u001b[0m\u001b[0;34m\u001b[0m\u001b[0m\n\u001b[0m\u001b[1;32m   4694\u001b[0m \u001b[0;34m\u001b[0m\u001b[0m\n\u001b[1;32m   4695\u001b[0m \u001b[0;34m\u001b[0m\u001b[0m\n",
      "\u001b[0;32m<__array_function__ internals>\u001b[0m in \u001b[0;36mconcatenate\u001b[0;34m(*args, **kwargs)\u001b[0m\n",
      "\u001b[0;31mKeyboardInterrupt\u001b[0m: "
     ]
    }
   ],
   "source": [
    "distributions = np.empty(0)\n",
    "for i in range(247174):\n",
    "    distributions = np.append(distributions, (100-sum(predictions_all[:,i]))/100)"
   ]
  },
  {
   "cell_type": "code",
   "execution_count": 37,
   "metadata": {},
   "outputs": [
    {
     "name": "stdout",
     "output_type": "stream",
     "text": [
      "(247174,)\n",
      "(247174,)\n"
     ]
    }
   ],
   "source": [
    "print(distributions.shape)\n",
    "print(y_dev.shape)"
   ]
  },
  {
   "cell_type": "code",
   "execution_count": 13,
   "metadata": {},
   "outputs": [],
   "source": [
    "from sklearn import metrics\n",
    "fpr, tpr, thresholds = metrics.roc_curve(y_dev, distributions, pos_label=0)"
   ]
  },
  {
   "cell_type": "code",
   "execution_count": 48,
   "metadata": {},
   "outputs": [
    {
     "name": "stdout",
     "output_type": "stream",
     "text": [
      "(array([ 0,  1,  2,  3,  4,  5,  6,  7,  8,  9, 10, 11, 12, 13, 14, 15, 16,\n",
      "       17, 18, 19, 20, 21, 22, 23, 24, 25, 26, 27, 28, 29, 30, 31, 32, 33,\n",
      "       34, 35, 36, 37, 38, 39, 40, 41, 42, 43, 44, 45, 46, 47, 48, 49, 50,\n",
      "       51, 52, 53, 54, 55]),)\n",
      "(array([ 47,  48,  49,  50,  51,  52,  53,  54,  55,  56,  57,  58,  59,\n",
      "        60,  61,  62,  63,  64,  65,  66,  67,  68,  69,  70,  71,  72,\n",
      "        73,  74,  75,  76,  77,  78,  79,  80,  81,  82,  83,  84,  85,\n",
      "        86,  87,  88,  89,  90,  91,  92,  93,  94,  95,  96,  97,  98,\n",
      "        99, 100, 101]),)\n"
     ]
    }
   ],
   "source": [
    "print(np.where(thresholds > 0.45))\n",
    "print(np.where(thresholds < 0.55))"
   ]
  },
  {
   "cell_type": "code",
   "execution_count": 52,
   "metadata": {},
   "outputs": [
    {
     "name": "stdout",
     "output_type": "stream",
     "text": [
      "0.51\n",
      "0.052558155756286404\n",
      "0.9197179435309077\n"
     ]
    }
   ],
   "source": [
    "print(thresholds[50])\n",
    "print(fpr[50])\n",
    "print(tpr[50])"
   ]
  },
  {
   "cell_type": "code",
   "execution_count": 20,
   "metadata": {},
   "outputs": [
    {
     "data": {
      "image/png": "[encoded data removed]",
      "text/plain": [
       "<Figure size 540x540 with 1 Axes>"
      ]
     },
     "metadata": {
      "needs_background": "light"
     },
     "output_type": "display_data"
    }
   ],
   "source": [
    "from pathlib import Path\n",
    "from matplotlib.pyplot import figure, draw\n",
    "from matplotlib import pyplot as plt\n",
    "fn = Path('/scratch/iliant/ROC4.svg').expanduser()\n",
    "\n",
    "\n",
    "\n",
    "import matplotlib.pyplot as plt\n",
    "fig, ax = plt.subplots(figsize=(7.5,7.5))\n",
    "#ax.scatter(fpr[::100][:9], tpr[::100][:9], c='blue')\n",
    "#ax.scatter(fpr[::100][10:], tpr[::100][10:], c='blue')\n",
    "ax.plot(fpr, tpr, 'r-')\n",
    "ax.set_xlabel(\"false positive rate\", fontsize=13)\n",
    "ax.set_ylabel(\"true positive rate\", fontsize=13)\n",
    "\n",
    "ax.plot((0.052, 0.052), (0,0.919), 'k')\n",
    "#ax.plot((0.037, 0.037), (0,0.917), 'k')\n",
    "ax.plot((0, 0.052), (0.919, 0.919), 'k')\n",
    "#ax.plot((0, 0.037), (0.917, 0.917), 'k')\n",
    "ax.set_xlim([-0.008,1.01])\n",
    "ax.set_ylim([0,1.01])\n",
    "#ax.annotate(\"0.5\", (0.065, 0.95))\n",
    "#ax.annotate(\"0.74\", (0.037, 0.917))\n",
    "plt.xticks([0.05, 0.2, 0.4, 0.6, 0.8, 1])\n",
    "plt.yticks([0.2, 0.4, 0.6, 0.8, 0.92 ,1])\n",
    "plt.tick_params(labelsize='large')\n",
    "#for i, txt in enumerate(np.around(thresholds[::150], 3)):\n",
    "    #ax.annotate(txt, (fpr[i*150], tpr[i*150]))\n",
    "    \n",
    "draw() # necessary to render figure before saving\n",
    "fig.savefig(fn, bbox_inches='tight')\n",
    "\n"
   ]
  },
  {
   "cell_type": "code",
   "execution_count": 102,
   "metadata": {},
   "outputs": [
    {
     "name": "stdout",
     "output_type": "stream",
     "text": [
      "Training error: 10.59%\n"
     ]
    }
   ],
   "source": [
    "y_pred_test = rf.predict(X_test)\n",
    "print(\"Training error: \" + str(round( (1 - metrics.accuracy_score(y_test, y_pred_test) )*100, 2)) + \"%\") "
   ]
  },
  {
   "cell_type": "code",
   "execution_count": 104,
   "metadata": {},
   "outputs": [],
   "source": [
    "\n",
    "pd.DataFrame(y_pred_test).to_pickle(\"final_RF_predictions\")"
   ]
  },
  {
   "cell_type": "markdown",
   "metadata": {},
   "source": [
    "# See learning curve as proportion of training data used without tuning any of the parameters."
   ]
  },
  {
   "cell_type": "code",
   "execution_count": 39,
   "metadata": {},
   "outputs": [
    {
     "name": "stdout",
     "output_type": "stream",
     "text": [
      "For 0.1 we have the following: \n",
      "Training error: 0.0%\n",
      "Validation error: 20.3%\n",
      "---\n",
      "For 0.2 we have the following: \n",
      "Training error: 0.0%\n",
      "Validation error: 15.42%\n",
      "---\n",
      "For 0.3 we have the following: \n",
      "Training error: 0.0%\n",
      "Validation error: 14.59%\n",
      "---\n",
      "For 0.4 we have the following: \n",
      "Training error: 0.01%\n",
      "Validation error: 10.53%\n",
      "---\n",
      "For 0.5 we have the following: \n",
      "Training error: 0.01%\n",
      "Validation error: 10.36%\n",
      "---\n",
      "For 0.6 we have the following: \n",
      "Training error: 0.01%\n",
      "Validation error: 9.43%\n",
      "---\n",
      "For 0.7 we have the following: \n",
      "Training error: 0.01%\n",
      "Validation error: 9.08%\n",
      "---\n",
      "For 0.8 we have the following: \n",
      "Training error: 0.01%\n",
      "Validation error: 8.1%\n",
      "---\n",
      "For 0.9 we have the following: \n",
      "Training error: 0.01%\n",
      "Validation error: 8.1%\n",
      "---\n",
      "For 1 we have the following: \n",
      "Training error: 0.01%\n",
      "Validation error: 6.98%\n",
      "---\n"
     ]
    }
   ],
   "source": [
    "proportions = [0.1, 0.2, 0.3, 0.4, 0.5, 0.6,0.7,0.8,0.9,1]\n",
    "for proportion in proportions:\n",
    "    from sklearn.ensemble import RandomForestClassifier\n",
    "    rf = RandomForestClassifier(random_state = 42, max_features = math.ceil(math.sqrt(len(top_features))))\n",
    "    #from pprint import pprint\n",
    "    #print('Parameters currently in use:\\n')\n",
    "    #pprint(rf.get_params())\n",
    "\n",
    "    neww_train = X_train[:int(proportion*X_train.shape[0])]\n",
    "    yy_train = y_train[:int(proportion*y_train.shape[0])]\n",
    "    rf.fit(neww_train, yy_train)\n",
    "\n",
    "    new_pred_dev = rf.predict(X_dev)\n",
    "    new_pred_train = rf.predict(neww_train)\n",
    "\n",
    "    from sklearn import metrics\n",
    "    #print(\"Validation accuracy \", metrics.accuracy_score(y_dev, y_pred_dev))\n",
    "    #print(\"Accuracy:\",metrics.accuracy_score(y_dev, y_pred_dev))\n",
    "    print(\"For \" + str(proportion) + \" we have the following: \")\n",
    "    print(\"Training error: \" + str(round( (1 - metrics.accuracy_score(yy_train, new_pred_train) )*100, 2)) + \"%\") \n",
    "    print(\"Validation error: \" + str(round( (1 - metrics.accuracy_score(y_dev, new_pred_dev) )*100, 2)) + \"%\") \n",
    "    print(\"---\")\n",
    "\n",
    "\n"
   ]
  },
  {
   "cell_type": "code",
   "execution_count": 7,
   "metadata": {},
   "outputs": [
    {
     "data": {
      "image/png": "[encoded data removed]",
      "text/plain": [
       "<Figure size 864x288 with 1 Axes>"
      ]
     },
     "metadata": {
      "needs_background": "light"
     },
     "output_type": "display_data"
    },
    {
     "data": {
      "text/plain": [
       "<Figure size 432x288 with 0 Axes>"
      ]
     },
     "metadata": {},
     "output_type": "display_data"
    }
   ],
   "source": [
    "from pathlib import Path\n",
    "from matplotlib.pyplot import figure, draw\n",
    "from matplotlib import pyplot as plt\n",
    "fn = Path('/scratch/iliant/lrcurve.svg').expanduser()\n",
    "\n",
    "\n",
    "\n",
    "\n",
    "training = [0, 0, 0, 0, 0, 0.01, 0.01, 0.01, 0.01, 0]\n",
    "validation = [20.3, 15.42, 14.59, 10.53, 10.36, 9.43, 9.08, 8.01, 8.01, 6.98]\n",
    "proportions = [0.1, 0.2, 0.3, 0.4, 0.5, 0.6, 0.7, 0.8, 0.9, 1]\n",
    "\n",
    "fig2 = plt.figure(figsize = (12,4))\n",
    "validation = np.round(np.array(validation)/100,2)\n",
    "#training_plot, = plt.plot(proportions, training, 'r-');\n",
    "validation_plot, = plt.plot(proportions, validation, 'b-');\n",
    "plt.legend([validation_plot],[\"validation error\"])\n",
    "plt.axhline(y=min(validation), color='b', linestyle='--')\n",
    "\n",
    "plt.xlabel(\"proportion of training data used\", fontsize=13)\n",
    "plt.ylabel(\"error\", fontsize=13)\n",
    "plt.tick_params(labelsize='large')\n",
    "plt.title(\"Top 26 features, max_features = 6\")\n",
    "plt.ylim([0,0.25])\n",
    "plt.show()\n",
    "\n",
    "\n",
    "draw() # necessary to render figure before saving\n",
    "fig2.savefig(fn, bbox_inches='tight')\n",
    "\n"
   ]
  },
  {
   "cell_type": "markdown",
   "metadata": {},
   "source": [
    "# Now that we know that we can use all our training data for training, let's see if we overfit."
   ]
  },
  {
   "cell_type": "code",
   "execution_count": 42,
   "metadata": {
    "scrolled": true
   },
   "outputs": [
    {
     "name": "stdout",
     "output_type": "stream",
     "text": [
      "Parameters currently in use:\n",
      "\n",
      "{'bootstrap': True,\n",
      " 'ccp_alpha': 0.0,\n",
      " 'class_weight': None,\n",
      " 'criterion': 'gini',\n",
      " 'max_depth': 1,\n",
      " 'max_features': 6,\n",
      " 'max_leaf_nodes': None,\n",
      " 'max_samples': None,\n",
      " 'min_impurity_decrease': 0.0,\n",
      " 'min_impurity_split': None,\n",
      " 'min_samples_leaf': 1,\n",
      " 'min_samples_split': 2,\n",
      " 'min_weight_fraction_leaf': 0.0,\n",
      " 'n_estimators': 100,\n",
      " 'n_jobs': None,\n",
      " 'oob_score': False,\n",
      " 'random_state': 42,\n",
      " 'verbose': 0,\n",
      " 'warm_start': False}\n",
      "For 1 we have: \n",
      "Training error: 24.68%\n",
      "Validation error: 31.16%\n",
      "Parameters currently in use:\n",
      "\n",
      "{'bootstrap': True,\n",
      " 'ccp_alpha': 0.0,\n",
      " 'class_weight': None,\n",
      " 'criterion': 'gini',\n",
      " 'max_depth': 5,\n",
      " 'max_features': 6,\n",
      " 'max_leaf_nodes': None,\n",
      " 'max_samples': None,\n",
      " 'min_impurity_decrease': 0.0,\n",
      " 'min_impurity_split': None,\n",
      " 'min_samples_leaf': 1,\n",
      " 'min_samples_split': 2,\n",
      " 'min_weight_fraction_leaf': 0.0,\n",
      " 'n_estimators': 100,\n",
      " 'n_jobs': None,\n",
      " 'oob_score': False,\n",
      " 'random_state': 42,\n",
      " 'verbose': 0,\n",
      " 'warm_start': False}\n",
      "For 5 we have: \n",
      "Training error: 11.63%\n",
      "Validation error: 16.17%\n",
      "Parameters currently in use:\n",
      "\n",
      "{'bootstrap': True,\n",
      " 'ccp_alpha': 0.0,\n",
      " 'class_weight': None,\n",
      " 'criterion': 'gini',\n",
      " 'max_depth': 9,\n",
      " 'max_features': 6,\n",
      " 'max_leaf_nodes': None,\n",
      " 'max_samples': None,\n",
      " 'min_impurity_decrease': 0.0,\n",
      " 'min_impurity_split': None,\n",
      " 'min_samples_leaf': 1,\n",
      " 'min_samples_split': 2,\n",
      " 'min_weight_fraction_leaf': 0.0,\n",
      " 'n_estimators': 100,\n",
      " 'n_jobs': None,\n",
      " 'oob_score': False,\n",
      " 'random_state': 42,\n",
      " 'verbose': 0,\n",
      " 'warm_start': False}\n",
      "For 9 we have: \n",
      "Training error: 5.79%\n",
      "Validation error: 10.61%\n",
      "Parameters currently in use:\n",
      "\n",
      "{'bootstrap': True,\n",
      " 'ccp_alpha': 0.0,\n",
      " 'class_weight': None,\n",
      " 'criterion': 'gini',\n",
      " 'max_depth': 13,\n",
      " 'max_features': 6,\n",
      " 'max_leaf_nodes': None,\n",
      " 'max_samples': None,\n",
      " 'min_impurity_decrease': 0.0,\n",
      " 'min_impurity_split': None,\n",
      " 'min_samples_leaf': 1,\n",
      " 'min_samples_split': 2,\n",
      " 'min_weight_fraction_leaf': 0.0,\n",
      " 'n_estimators': 100,\n",
      " 'n_jobs': None,\n",
      " 'oob_score': False,\n",
      " 'random_state': 42,\n",
      " 'verbose': 0,\n",
      " 'warm_start': False}\n",
      "For 13 we have: \n",
      "Training error: 1.76%\n",
      "Validation error: 7.93%\n",
      "Parameters currently in use:\n",
      "\n",
      "{'bootstrap': True,\n",
      " 'ccp_alpha': 0.0,\n",
      " 'class_weight': None,\n",
      " 'criterion': 'gini',\n",
      " 'max_depth': 17,\n",
      " 'max_features': 6,\n",
      " 'max_leaf_nodes': None,\n",
      " 'max_samples': None,\n",
      " 'min_impurity_decrease': 0.0,\n",
      " 'min_impurity_split': None,\n",
      " 'min_samples_leaf': 1,\n",
      " 'min_samples_split': 2,\n",
      " 'min_weight_fraction_leaf': 0.0,\n",
      " 'n_estimators': 100,\n",
      " 'n_jobs': None,\n",
      " 'oob_score': False,\n",
      " 'random_state': 42,\n",
      " 'verbose': 0,\n",
      " 'warm_start': False}\n",
      "For 17 we have: \n",
      "Training error: 0.6%\n",
      "Validation error: 7.45%\n",
      "Parameters currently in use:\n",
      "\n",
      "{'bootstrap': True,\n",
      " 'ccp_alpha': 0.0,\n",
      " 'class_weight': None,\n",
      " 'criterion': 'gini',\n",
      " 'max_depth': 21,\n",
      " 'max_features': 6,\n",
      " 'max_leaf_nodes': None,\n",
      " 'max_samples': None,\n",
      " 'min_impurity_decrease': 0.0,\n",
      " 'min_impurity_split': None,\n",
      " 'min_samples_leaf': 1,\n",
      " 'min_samples_split': 2,\n",
      " 'min_weight_fraction_leaf': 0.0,\n",
      " 'n_estimators': 100,\n",
      " 'n_jobs': None,\n",
      " 'oob_score': False,\n",
      " 'random_state': 42,\n",
      " 'verbose': 0,\n",
      " 'warm_start': False}\n",
      "For 21 we have: \n",
      "Training error: 0.25%\n",
      "Validation error: 7.08%\n",
      "Parameters currently in use:\n",
      "\n",
      "{'bootstrap': True,\n",
      " 'ccp_alpha': 0.0,\n",
      " 'class_weight': None,\n",
      " 'criterion': 'gini',\n",
      " 'max_depth': 25,\n",
      " 'max_features': 6,\n",
      " 'max_leaf_nodes': None,\n",
      " 'max_samples': None,\n",
      " 'min_impurity_decrease': 0.0,\n",
      " 'min_impurity_split': None,\n",
      " 'min_samples_leaf': 1,\n",
      " 'min_samples_split': 2,\n",
      " 'min_weight_fraction_leaf': 0.0,\n",
      " 'n_estimators': 100,\n",
      " 'n_jobs': None,\n",
      " 'oob_score': False,\n",
      " 'random_state': 42,\n",
      " 'verbose': 0,\n",
      " 'warm_start': False}\n",
      "For 25 we have: \n",
      "Training error: 0.13%\n",
      "Validation error: 7.35%\n",
      "Parameters currently in use:\n",
      "\n",
      "{'bootstrap': True,\n",
      " 'ccp_alpha': 0.0,\n",
      " 'class_weight': None,\n",
      " 'criterion': 'gini',\n",
      " 'max_depth': 29,\n",
      " 'max_features': 6,\n",
      " 'max_leaf_nodes': None,\n",
      " 'max_samples': None,\n",
      " 'min_impurity_decrease': 0.0,\n",
      " 'min_impurity_split': None,\n",
      " 'min_samples_leaf': 1,\n",
      " 'min_samples_split': 2,\n",
      " 'min_weight_fraction_leaf': 0.0,\n",
      " 'n_estimators': 100,\n",
      " 'n_jobs': None,\n",
      " 'oob_score': False,\n",
      " 'random_state': 42,\n",
      " 'verbose': 0,\n",
      " 'warm_start': False}\n",
      "For 29 we have: \n",
      "Training error: 0.08%\n",
      "Validation error: 6.5%\n"
     ]
    }
   ],
   "source": [
    "depths = [1, 5, 9, 13, 17, 21, 25, 29]\n",
    "for depth in depths:\n",
    "    from sklearn.ensemble import RandomForestClassifier\n",
    "    breakpoint1 = int(0.6 * my_data.shape[0])\n",
    "    \n",
    "\n",
    "    X_train, y_train = X[:breakpoint1], y[:breakpoint1]\n",
    "\n",
    "    X_dev, y_dev = X[breakpoint1:breakpoint2], y[breakpoint1:breakpoint2]\n",
    "\n",
    "    from sklearn.ensemble import RandomForestClassifier\n",
    "    rf = RandomForestClassifier(random_state = 42, max_features = math.ceil(math.sqrt(len(features))), max_depth = depth)\n",
    "    from pprint import pprint\n",
    "    print('Parameters currently in use:\\n')\n",
    "    pprint(rf.get_params())\n",
    "\n",
    "\n",
    "    rf.fit(X_train, y_train)\n",
    "\n",
    "    y_pred_dev = rf.predict(X_dev)\n",
    "    y_pred_train = rf.predict(X_train)\n",
    "\n",
    "    from sklearn import metrics\n",
    "    #print(\"Validation accuracy \", metrics.accuracy_score(y_dev, y_pred_dev))\n",
    "    #print(\"Accuracy:\",metrics.accuracy_score(y_dev, y_pred_dev))\n",
    "    print(\"For \" + str(depth) + \" we have: \")\n",
    "    print(\"Training error: \" + str(round( (1 - metrics.accuracy_score(y_train, y_pred_train) )*100, 2)) + \"%\") \n",
    "    print(\"Validation error: \" + str(round( (1 - metrics.accuracy_score(y_dev, y_pred_dev) )*100, 2)) + \"%\") \n",
    "\n",
    "\n",
    "\n",
    "\n"
   ]
  },
  {
   "cell_type": "code",
   "execution_count": 8,
   "metadata": {},
   "outputs": [
    {
     "data": {
      "image/png": "[encoded data removed]",
      "text/plain": [
       "<Figure size 864x288 with 1 Axes>"
      ]
     },
     "metadata": {
      "needs_background": "light"
     },
     "output_type": "display_data"
    },
    {
     "data": {
      "text/plain": [
       "<Figure size 432x288 with 0 Axes>"
      ]
     },
     "metadata": {},
     "output_type": "display_data"
    }
   ],
   "source": [
    "from pathlib import Path\n",
    "from matplotlib.pyplot import figure, draw\n",
    "from matplotlib import pyplot as plt\n",
    "fn = Path('/scratch/iliant/maxdepth.svg').expanduser()\n",
    "\n",
    "\n",
    "\n",
    "\n",
    "\n",
    "\n",
    "\n",
    "training = [24.68, 11.63, 5.79, 1.76, 0.6, 0.25, 0.13, 0.08, 0.01]\n",
    "validation = [31.16, 16.17, 10.61, 7.93, 7.45, 7.08, 7.35, 6.35, 6.63 ]\n",
    "depths = [1, 5, 9, 13, 17, 21, 25, 29, \"None\"]\n",
    "\n",
    "fig2 = plt.figure(figsize = (12,4))\n",
    "\n",
    "training = np.array(training)\n",
    "validation = np.array(validation)\n",
    "\n",
    "training_plot, = plt.plot(depths, training/100, 'r-');\n",
    "validation_plot, = plt.plot(depths, validation/100, 'b-');\n",
    "plt.legend([validation_plot, training_plot],[\"validation error\", \"training error\"], fontsize=13)\n",
    "plt.axhline(y=min(validation/100), color='b', linestyle='--')\n",
    "plt.axhline(y=min(training/100), color = 'r', linestyle='--')\n",
    "plt.xlabel(\"max depth\", fontsize=13)\n",
    "plt.ylabel(\"error\", fontsize=13)\n",
    "plt.tick_params(labelsize='large')\n",
    "plt.title(\"Top 26 features, max_features = 6\")\n",
    "plt.ylim([0,0.35])\n",
    "plt.show()\n",
    "\n",
    "\n",
    "draw() # necessary to render figure before saving\n",
    "fig2.savefig(fn, bbox_inches='tight')\n",
    "\n"
   ]
  },
  {
   "cell_type": "markdown",
   "metadata": {},
   "source": [
    "# Tune the min samples leaf using max depth 29 from previous plot\n",
    "\n",
    "\n"
   ]
  },
  {
   "cell_type": "code",
   "execution_count": 71,
   "metadata": {},
   "outputs": [
    {
     "name": "stdout",
     "output_type": "stream",
     "text": [
      "Parameters currently in use:\n",
      "\n",
      "{'bootstrap': True,\n",
      " 'ccp_alpha': 0.0,\n",
      " 'class_weight': None,\n",
      " 'criterion': 'gini',\n",
      " 'max_depth': 29,\n",
      " 'max_features': 6,\n",
      " 'max_leaf_nodes': None,\n",
      " 'max_samples': None,\n",
      " 'min_impurity_decrease': 0.0,\n",
      " 'min_impurity_split': None,\n",
      " 'min_samples_leaf': 1,\n",
      " 'min_samples_split': 2,\n",
      " 'min_weight_fraction_leaf': 0.0,\n",
      " 'n_estimators': 100,\n",
      " 'n_jobs': None,\n",
      " 'oob_score': False,\n",
      " 'random_state': 42,\n",
      " 'verbose': 0,\n",
      " 'warm_start': False}\n",
      "For 2 we have: \n",
      "Training error: 0.08%\n",
      "Validation error: 6.5%\n",
      "Parameters currently in use:\n",
      "\n",
      "{'bootstrap': True,\n",
      " 'ccp_alpha': 0.0,\n",
      " 'class_weight': None,\n",
      " 'criterion': 'gini',\n",
      " 'max_depth': 29,\n",
      " 'max_features': 6,\n",
      " 'max_leaf_nodes': None,\n",
      " 'max_samples': None,\n",
      " 'min_impurity_decrease': 0.0,\n",
      " 'min_impurity_split': None,\n",
      " 'min_samples_leaf': 10,\n",
      " 'min_samples_split': 2,\n",
      " 'min_weight_fraction_leaf': 0.0,\n",
      " 'n_estimators': 100,\n",
      " 'n_jobs': None,\n",
      " 'oob_score': False,\n",
      " 'random_state': 42,\n",
      " 'verbose': 0,\n",
      " 'warm_start': False}\n",
      "For 2 we have: \n",
      "Training error: 0.7%\n",
      "Validation error: 7.5%\n",
      "Parameters currently in use:\n",
      "\n",
      "{'bootstrap': True,\n",
      " 'ccp_alpha': 0.0,\n",
      " 'class_weight': None,\n",
      " 'criterion': 'gini',\n",
      " 'max_depth': 29,\n",
      " 'max_features': 6,\n",
      " 'max_leaf_nodes': None,\n",
      " 'max_samples': None,\n",
      " 'min_impurity_decrease': 0.0,\n",
      " 'min_impurity_split': None,\n",
      " 'min_samples_leaf': 100,\n",
      " 'min_samples_split': 2,\n",
      " 'min_weight_fraction_leaf': 0.0,\n",
      " 'n_estimators': 100,\n",
      " 'n_jobs': None,\n",
      " 'oob_score': False,\n",
      " 'random_state': 42,\n",
      " 'verbose': 0,\n",
      " 'warm_start': False}\n",
      "For 2 we have: \n",
      "Training error: 2.05%\n",
      "Validation error: 8.26%\n",
      "Parameters currently in use:\n",
      "\n",
      "{'bootstrap': True,\n",
      " 'ccp_alpha': 0.0,\n",
      " 'class_weight': None,\n",
      " 'criterion': 'gini',\n",
      " 'max_depth': 29,\n",
      " 'max_features': 6,\n",
      " 'max_leaf_nodes': None,\n",
      " 'max_samples': None,\n",
      " 'min_impurity_decrease': 0.0,\n",
      " 'min_impurity_split': None,\n",
      " 'min_samples_leaf': 500,\n",
      " 'min_samples_split': 2,\n",
      " 'min_weight_fraction_leaf': 0.0,\n",
      " 'n_estimators': 100,\n",
      " 'n_jobs': None,\n",
      " 'oob_score': False,\n",
      " 'random_state': 42,\n",
      " 'verbose': 0,\n",
      " 'warm_start': False}\n",
      "For 2 we have: \n",
      "Training error: 3.83%\n",
      "Validation error: 9.43%\n",
      "Parameters currently in use:\n",
      "\n",
      "{'bootstrap': True,\n",
      " 'ccp_alpha': 0.0,\n",
      " 'class_weight': None,\n",
      " 'criterion': 'gini',\n",
      " 'max_depth': 29,\n",
      " 'max_features': 6,\n",
      " 'max_leaf_nodes': None,\n",
      " 'max_samples': None,\n",
      " 'min_impurity_decrease': 0.0,\n",
      " 'min_impurity_split': None,\n",
      " 'min_samples_leaf': 1000,\n",
      " 'min_samples_split': 2,\n",
      " 'min_weight_fraction_leaf': 0.0,\n",
      " 'n_estimators': 100,\n",
      " 'n_jobs': None,\n",
      " 'oob_score': False,\n",
      " 'random_state': 42,\n",
      " 'verbose': 0,\n",
      " 'warm_start': False}\n",
      "For 2 we have: \n",
      "Training error: 5.08%\n",
      "Validation error: 10.0%\n",
      "Parameters currently in use:\n",
      "\n",
      "{'bootstrap': True,\n",
      " 'ccp_alpha': 0.0,\n",
      " 'class_weight': None,\n",
      " 'criterion': 'gini',\n",
      " 'max_depth': 29,\n",
      " 'max_features': 6,\n",
      " 'max_leaf_nodes': None,\n",
      " 'max_samples': None,\n",
      " 'min_impurity_decrease': 0.0,\n",
      " 'min_impurity_split': None,\n",
      " 'min_samples_leaf': 2000,\n",
      " 'min_samples_split': 2,\n",
      " 'min_weight_fraction_leaf': 0.0,\n",
      " 'n_estimators': 100,\n",
      " 'n_jobs': None,\n",
      " 'oob_score': False,\n",
      " 'random_state': 42,\n",
      " 'verbose': 0,\n",
      " 'warm_start': False}\n",
      "For 2 we have: \n",
      "Training error: 6.64%\n",
      "Validation error: 11.17%\n",
      "Parameters currently in use:\n",
      "\n",
      "{'bootstrap': True,\n",
      " 'ccp_alpha': 0.0,\n",
      " 'class_weight': None,\n",
      " 'criterion': 'gini',\n",
      " 'max_depth': 29,\n",
      " 'max_features': 6,\n",
      " 'max_leaf_nodes': None,\n",
      " 'max_samples': None,\n",
      " 'min_impurity_decrease': 0.0,\n",
      " 'min_impurity_split': None,\n",
      " 'min_samples_leaf': 3500,\n",
      " 'min_samples_split': 2,\n",
      " 'min_weight_fraction_leaf': 0.0,\n",
      " 'n_estimators': 100,\n",
      " 'n_jobs': None,\n",
      " 'oob_score': False,\n",
      " 'random_state': 42,\n",
      " 'verbose': 0,\n",
      " 'warm_start': False}\n",
      "For 2 we have: \n",
      "Training error: 8.77%\n",
      "Validation error: 12.57%\n",
      "Parameters currently in use:\n",
      "\n",
      "{'bootstrap': True,\n",
      " 'ccp_alpha': 0.0,\n",
      " 'class_weight': None,\n",
      " 'criterion': 'gini',\n",
      " 'max_depth': 29,\n",
      " 'max_features': 6,\n",
      " 'max_leaf_nodes': None,\n",
      " 'max_samples': None,\n",
      " 'min_impurity_decrease': 0.0,\n",
      " 'min_impurity_split': None,\n",
      " 'min_samples_leaf': 5500,\n",
      " 'min_samples_split': 2,\n",
      " 'min_weight_fraction_leaf': 0.0,\n",
      " 'n_estimators': 100,\n",
      " 'n_jobs': None,\n",
      " 'oob_score': False,\n",
      " 'random_state': 42,\n",
      " 'verbose': 0,\n",
      " 'warm_start': False}\n",
      "For 2 we have: \n",
      "Training error: 10.37%\n",
      "Validation error: 13.56%\n",
      "Parameters currently in use:\n",
      "\n",
      "{'bootstrap': True,\n",
      " 'ccp_alpha': 0.0,\n",
      " 'class_weight': None,\n",
      " 'criterion': 'gini',\n",
      " 'max_depth': 29,\n",
      " 'max_features': 6,\n",
      " 'max_leaf_nodes': None,\n",
      " 'max_samples': None,\n",
      " 'min_impurity_decrease': 0.0,\n",
      " 'min_impurity_split': None,\n",
      " 'min_samples_leaf': 8000,\n",
      " 'min_samples_split': 2,\n",
      " 'min_weight_fraction_leaf': 0.0,\n",
      " 'n_estimators': 100,\n",
      " 'n_jobs': None,\n",
      " 'oob_score': False,\n",
      " 'random_state': 42,\n",
      " 'verbose': 0,\n",
      " 'warm_start': False}\n",
      "For 2 we have: \n",
      "Training error: 11.25%\n",
      "Validation error: 13.99%\n"
     ]
    }
   ],
   "source": [
    "min_samples_leafs = np.array([1, 10, 100, 500, 1000, 2000, 3500, 5500, 8000])\n",
    "for min_samples_leaf in min_samples_leafs:\n",
    "    from sklearn.ensemble import RandomForestClassifier\n",
    "    breakpoint1 = int(0.6 * my_data.shape[0])\n",
    "    breakpoint2 = int(0.8*my_data.shape[0])\n",
    "\n",
    "    X_train, y_train = X[:breakpoint1], y[:breakpoint1]\n",
    "\n",
    "    X_dev, y_dev = X[breakpoint1:breakpoint2], y[breakpoint1:breakpoint2]\n",
    "\n",
    "    from sklearn.ensemble import RandomForestClassifier\n",
    "    rf = RandomForestClassifier(random_state = 42, max_features = math.ceil(math.sqrt(len(features))), max_depth = 29, min_samples_leaf = min_samples_leaf)\n",
    "    from pprint import pprint\n",
    "    print('Parameters currently in use:\\n')\n",
    "    pprint(rf.get_params())\n",
    "\n",
    "\n",
    "    rf.fit(X_train, y_train)\n",
    "\n",
    "    y_pred_dev = rf.predict(X_dev)\n",
    "    y_pred_train = rf.predict(X_train)\n",
    "\n",
    "    from sklearn import metrics\n",
    "    #print(\"Validation accuracy \", metrics.accuracy_score(y_dev, y_pred_dev))\n",
    "    #print(\"Accuracy:\",metrics.accuracy_score(y_dev, y_pred_dev))\n",
    "    print(\"For \" + str(min_sample_leaf) + \" we have: \")\n",
    "    print(\"Training error: \" + str(round( (1 - metrics.accuracy_score(y_train, y_pred_train) )*100, 2)) + \"%\") \n",
    "    print(\"Validation error: \" + str(round( (1 - metrics.accuracy_score(y_dev, y_pred_dev) )*100, 2)) + \"%\") "
   ]
  },
  {
   "cell_type": "code",
   "execution_count": 22,
   "metadata": {},
   "outputs": [
    {
     "data": {
      "image/png": "[encoded data removed]",
      "text/plain": [
       "<Figure size 864x288 with 1 Axes>"
      ]
     },
     "metadata": {
      "needs_background": "light"
     },
     "output_type": "display_data"
    },
    {
     "data": {
      "text/plain": [
       "<Figure size 432x288 with 0 Axes>"
      ]
     },
     "metadata": {},
     "output_type": "display_data"
    }
   ],
   "source": [
    "from pathlib import Path\n",
    "from matplotlib.pyplot import figure, draw\n",
    "from matplotlib import pyplot as plt\n",
    "fn = Path('/scratch/iliant/minleaf.svg').expanduser()\n",
    "\n",
    "\n",
    "\n",
    "training = [0.08, 0.7, 2.05, 3.84, 5.08, 6.64, 8.77, 10.37, 11.25]\n",
    "validation = [6.5, 7.5, 8.26, 9.43, 10,  11.17, 12.57,13.56, 12.99 ]\n",
    "leaf = [1, 10, 100, 500, 1000, 2000, 3500, 5500, 8000]\n",
    "\n",
    "fig2 = plt.figure(figsize = (12,4))\n",
    "\n",
    "training=np.array(training)\n",
    "validation=np.array(validation)\n",
    "\n",
    "training_plot, = plt.plot(leaf, np.round(training/100,2), 'r-');\n",
    "validation_plot, = plt.plot(leaf, np.round(validation/100,2), 'b-');\n",
    "plt.legend([validation_plot, training_plot],[\"validation error\", \"training error\"], fontsize=13)\n",
    "plt.axhline(y=min(validation/100), color='b', linestyle='--')\n",
    "plt.axhline(y=min(training/100), color = 'r', linestyle='--')\n",
    "plt.xlabel(\"minimum size of a leaf\", fontsize=13)\n",
    "plt.ylabel(\"error\", fontsize=13)\n",
    "plt.title(\"Top 26 features, max_features = 6, max_depth = 29\")\n",
    "plt.tick_params(labelsize='large')\n",
    "plt.ylim([0,0.2])\n",
    "plt.xlim([-1,8000])\n",
    "plt.show()\n",
    "\n",
    "draw() # necessary to render figure before saving\n",
    "fig2.savefig(fn, bbox_inches='tight')\n",
    "\n",
    "\n"
   ]
  },
  {
   "cell_type": "code",
   "execution_count": 100,
   "metadata": {},
   "outputs": [
    {
     "name": "stdout",
     "output_type": "stream",
     "text": [
      "Parameters currently in use:\n",
      "\n",
      "{'bootstrap': True,\n",
      " 'ccp_alpha': 0.0,\n",
      " 'class_weight': None,\n",
      " 'criterion': 'gini',\n",
      " 'max_depth': 29,\n",
      " 'max_features': 9,\n",
      " 'max_leaf_nodes': None,\n",
      " 'max_samples': None,\n",
      " 'min_impurity_decrease': 0.0,\n",
      " 'min_impurity_split': None,\n",
      " 'min_samples_leaf': 8000,\n",
      " 'min_samples_split': 2,\n",
      " 'min_weight_fraction_leaf': 0.0,\n",
      " 'n_estimators': 100,\n",
      " 'n_jobs': None,\n",
      " 'oob_score': False,\n",
      " 'random_state': 42,\n",
      " 'verbose': 0,\n",
      " 'warm_start': False}\n"
     ]
    },
    {
     "ename": "KeyboardInterrupt",
     "evalue": "",
     "output_type": "error",
     "traceback": [
      "\u001b[0;31m---------------------------------------------------------------------------\u001b[0m",
      "\u001b[0;31mKeyboardInterrupt\u001b[0m                         Traceback (most recent call last)",
      "\u001b[0;32m<ipython-input-100-2c79e2dd4cf1>\u001b[0m in \u001b[0;36m<module>\u001b[0;34m\u001b[0m\n\u001b[1;32m     15\u001b[0m \u001b[0;34m\u001b[0m\u001b[0m\n\u001b[1;32m     16\u001b[0m \u001b[0;34m\u001b[0m\u001b[0m\n\u001b[0;32m---> 17\u001b[0;31m     \u001b[0mrf\u001b[0m\u001b[0;34m.\u001b[0m\u001b[0mfit\u001b[0m\u001b[0;34m(\u001b[0m\u001b[0mX_train\u001b[0m\u001b[0;34m,\u001b[0m \u001b[0my_train\u001b[0m\u001b[0;34m)\u001b[0m\u001b[0;34m\u001b[0m\u001b[0;34m\u001b[0m\u001b[0m\n\u001b[0m\u001b[1;32m     18\u001b[0m \u001b[0;34m\u001b[0m\u001b[0m\n\u001b[1;32m     19\u001b[0m     \u001b[0my_pred_dev\u001b[0m \u001b[0;34m=\u001b[0m \u001b[0mrf\u001b[0m\u001b[0;34m.\u001b[0m\u001b[0mpredict\u001b[0m\u001b[0;34m(\u001b[0m\u001b[0mX_dev\u001b[0m\u001b[0;34m)\u001b[0m\u001b[0;34m\u001b[0m\u001b[0;34m\u001b[0m\u001b[0m\n",
      "\u001b[0;32m~/.virtualenvs/dale/lib/python3.6/site-packages/sklearn/ensemble/_forest.py\u001b[0m in \u001b[0;36mfit\u001b[0;34m(self, X, y, sample_weight)\u001b[0m\n\u001b[1;32m    390\u001b[0m                     \u001b[0mverbose\u001b[0m\u001b[0;34m=\u001b[0m\u001b[0mself\u001b[0m\u001b[0;34m.\u001b[0m\u001b[0mverbose\u001b[0m\u001b[0;34m,\u001b[0m \u001b[0mclass_weight\u001b[0m\u001b[0;34m=\u001b[0m\u001b[0mself\u001b[0m\u001b[0;34m.\u001b[0m\u001b[0mclass_weight\u001b[0m\u001b[0;34m,\u001b[0m\u001b[0;34m\u001b[0m\u001b[0;34m\u001b[0m\u001b[0m\n\u001b[1;32m    391\u001b[0m                     n_samples_bootstrap=n_samples_bootstrap)\n\u001b[0;32m--> 392\u001b[0;31m                 for i, t in enumerate(trees))\n\u001b[0m\u001b[1;32m    393\u001b[0m \u001b[0;34m\u001b[0m\u001b[0m\n\u001b[1;32m    394\u001b[0m             \u001b[0;31m# Collect newly grown trees\u001b[0m\u001b[0;34m\u001b[0m\u001b[0;34m\u001b[0m\u001b[0;34m\u001b[0m\u001b[0m\n",
      "\u001b[0;32m~/.virtualenvs/dale/lib/python3.6/site-packages/joblib/parallel.py\u001b[0m in \u001b[0;36m__call__\u001b[0;34m(self, iterable)\u001b[0m\n\u001b[1;32m   1030\u001b[0m                 \u001b[0mself\u001b[0m\u001b[0;34m.\u001b[0m\u001b[0m_iterating\u001b[0m \u001b[0;34m=\u001b[0m \u001b[0mself\u001b[0m\u001b[0;34m.\u001b[0m\u001b[0m_original_iterator\u001b[0m \u001b[0;32mis\u001b[0m \u001b[0;32mnot\u001b[0m \u001b[0;32mNone\u001b[0m\u001b[0;34m\u001b[0m\u001b[0;34m\u001b[0m\u001b[0m\n\u001b[1;32m   1031\u001b[0m \u001b[0;34m\u001b[0m\u001b[0m\n\u001b[0;32m-> 1032\u001b[0;31m             \u001b[0;32mwhile\u001b[0m \u001b[0mself\u001b[0m\u001b[0;34m.\u001b[0m\u001b[0mdispatch_one_batch\u001b[0m\u001b[0;34m(\u001b[0m\u001b[0miterator\u001b[0m\u001b[0;34m)\u001b[0m\u001b[0;34m:\u001b[0m\u001b[0;34m\u001b[0m\u001b[0;34m\u001b[0m\u001b[0m\n\u001b[0m\u001b[1;32m   1033\u001b[0m                 \u001b[0;32mpass\u001b[0m\u001b[0;34m\u001b[0m\u001b[0;34m\u001b[0m\u001b[0m\n\u001b[1;32m   1034\u001b[0m \u001b[0;34m\u001b[0m\u001b[0m\n",
      "\u001b[0;32m~/.virtualenvs/dale/lib/python3.6/site-packages/joblib/parallel.py\u001b[0m in \u001b[0;36mdispatch_one_batch\u001b[0;34m(self, iterator)\u001b[0m\n\u001b[1;32m    845\u001b[0m                 \u001b[0;32mreturn\u001b[0m \u001b[0;32mFalse\u001b[0m\u001b[0;34m\u001b[0m\u001b[0;34m\u001b[0m\u001b[0m\n\u001b[1;32m    846\u001b[0m             \u001b[0;32melse\u001b[0m\u001b[0;34m:\u001b[0m\u001b[0;34m\u001b[0m\u001b[0;34m\u001b[0m\u001b[0m\n\u001b[0;32m--> 847\u001b[0;31m                 \u001b[0mself\u001b[0m\u001b[0;34m.\u001b[0m\u001b[0m_dispatch\u001b[0m\u001b[0;34m(\u001b[0m\u001b[0mtasks\u001b[0m\u001b[0;34m)\u001b[0m\u001b[0;34m\u001b[0m\u001b[0;34m\u001b[0m\u001b[0m\n\u001b[0m\u001b[1;32m    848\u001b[0m                 \u001b[0;32mreturn\u001b[0m \u001b[0;32mTrue\u001b[0m\u001b[0;34m\u001b[0m\u001b[0;34m\u001b[0m\u001b[0m\n\u001b[1;32m    849\u001b[0m \u001b[0;34m\u001b[0m\u001b[0m\n",
      "\u001b[0;32m~/.virtualenvs/dale/lib/python3.6/site-packages/joblib/parallel.py\u001b[0m in \u001b[0;36m_dispatch\u001b[0;34m(self, batch)\u001b[0m\n\u001b[1;32m    763\u001b[0m         \u001b[0;32mwith\u001b[0m \u001b[0mself\u001b[0m\u001b[0;34m.\u001b[0m\u001b[0m_lock\u001b[0m\u001b[0;34m:\u001b[0m\u001b[0;34m\u001b[0m\u001b[0;34m\u001b[0m\u001b[0m\n\u001b[1;32m    764\u001b[0m             \u001b[0mjob_idx\u001b[0m \u001b[0;34m=\u001b[0m \u001b[0mlen\u001b[0m\u001b[0;34m(\u001b[0m\u001b[0mself\u001b[0m\u001b[0;34m.\u001b[0m\u001b[0m_jobs\u001b[0m\u001b[0;34m)\u001b[0m\u001b[0;34m\u001b[0m\u001b[0;34m\u001b[0m\u001b[0m\n\u001b[0;32m--> 765\u001b[0;31m             \u001b[0mjob\u001b[0m \u001b[0;34m=\u001b[0m \u001b[0mself\u001b[0m\u001b[0;34m.\u001b[0m\u001b[0m_backend\u001b[0m\u001b[0;34m.\u001b[0m\u001b[0mapply_async\u001b[0m\u001b[0;34m(\u001b[0m\u001b[0mbatch\u001b[0m\u001b[0;34m,\u001b[0m \u001b[0mcallback\u001b[0m\u001b[0;34m=\u001b[0m\u001b[0mcb\u001b[0m\u001b[0;34m)\u001b[0m\u001b[0;34m\u001b[0m\u001b[0;34m\u001b[0m\u001b[0m\n\u001b[0m\u001b[1;32m    766\u001b[0m             \u001b[0;31m# A job can complete so quickly than its callback is\u001b[0m\u001b[0;34m\u001b[0m\u001b[0;34m\u001b[0m\u001b[0;34m\u001b[0m\u001b[0m\n\u001b[1;32m    767\u001b[0m             \u001b[0;31m# called before we get here, causing self._jobs to\u001b[0m\u001b[0;34m\u001b[0m\u001b[0;34m\u001b[0m\u001b[0;34m\u001b[0m\u001b[0m\n",
      "\u001b[0;32m~/.virtualenvs/dale/lib/python3.6/site-packages/joblib/_parallel_backends.py\u001b[0m in \u001b[0;36mapply_async\u001b[0;34m(self, func, callback)\u001b[0m\n\u001b[1;32m    206\u001b[0m     \u001b[0;32mdef\u001b[0m \u001b[0mapply_async\u001b[0m\u001b[0;34m(\u001b[0m\u001b[0mself\u001b[0m\u001b[0;34m,\u001b[0m \u001b[0mfunc\u001b[0m\u001b[0;34m,\u001b[0m \u001b[0mcallback\u001b[0m\u001b[0;34m=\u001b[0m\u001b[0;32mNone\u001b[0m\u001b[0;34m)\u001b[0m\u001b[0;34m:\u001b[0m\u001b[0;34m\u001b[0m\u001b[0;34m\u001b[0m\u001b[0m\n\u001b[1;32m    207\u001b[0m         \u001b[0;34m\"\"\"Schedule a func to be run\"\"\"\u001b[0m\u001b[0;34m\u001b[0m\u001b[0;34m\u001b[0m\u001b[0m\n\u001b[0;32m--> 208\u001b[0;31m         \u001b[0mresult\u001b[0m \u001b[0;34m=\u001b[0m \u001b[0mImmediateResult\u001b[0m\u001b[0;34m(\u001b[0m\u001b[0mfunc\u001b[0m\u001b[0;34m)\u001b[0m\u001b[0;34m\u001b[0m\u001b[0;34m\u001b[0m\u001b[0m\n\u001b[0m\u001b[1;32m    209\u001b[0m         \u001b[0;32mif\u001b[0m \u001b[0mcallback\u001b[0m\u001b[0;34m:\u001b[0m\u001b[0;34m\u001b[0m\u001b[0;34m\u001b[0m\u001b[0m\n\u001b[1;32m    210\u001b[0m             \u001b[0mcallback\u001b[0m\u001b[0;34m(\u001b[0m\u001b[0mresult\u001b[0m\u001b[0;34m)\u001b[0m\u001b[0;34m\u001b[0m\u001b[0;34m\u001b[0m\u001b[0m\n",
      "\u001b[0;32m~/.virtualenvs/dale/lib/python3.6/site-packages/joblib/_parallel_backends.py\u001b[0m in \u001b[0;36m__init__\u001b[0;34m(self, batch)\u001b[0m\n\u001b[1;32m    570\u001b[0m         \u001b[0;31m# Don't delay the application, to avoid keeping the input\u001b[0m\u001b[0;34m\u001b[0m\u001b[0;34m\u001b[0m\u001b[0;34m\u001b[0m\u001b[0m\n\u001b[1;32m    571\u001b[0m         \u001b[0;31m# arguments in memory\u001b[0m\u001b[0;34m\u001b[0m\u001b[0;34m\u001b[0m\u001b[0;34m\u001b[0m\u001b[0m\n\u001b[0;32m--> 572\u001b[0;31m         \u001b[0mself\u001b[0m\u001b[0;34m.\u001b[0m\u001b[0mresults\u001b[0m \u001b[0;34m=\u001b[0m \u001b[0mbatch\u001b[0m\u001b[0;34m(\u001b[0m\u001b[0;34m)\u001b[0m\u001b[0;34m\u001b[0m\u001b[0;34m\u001b[0m\u001b[0m\n\u001b[0m\u001b[1;32m    573\u001b[0m \u001b[0;34m\u001b[0m\u001b[0m\n\u001b[1;32m    574\u001b[0m     \u001b[0;32mdef\u001b[0m \u001b[0mget\u001b[0m\u001b[0;34m(\u001b[0m\u001b[0mself\u001b[0m\u001b[0;34m)\u001b[0m\u001b[0;34m:\u001b[0m\u001b[0;34m\u001b[0m\u001b[0;34m\u001b[0m\u001b[0m\n",
      "\u001b[0;32m~/.virtualenvs/dale/lib/python3.6/site-packages/joblib/parallel.py\u001b[0m in \u001b[0;36m__call__\u001b[0;34m(self)\u001b[0m\n\u001b[1;32m    251\u001b[0m         \u001b[0;32mwith\u001b[0m \u001b[0mparallel_backend\u001b[0m\u001b[0;34m(\u001b[0m\u001b[0mself\u001b[0m\u001b[0;34m.\u001b[0m\u001b[0m_backend\u001b[0m\u001b[0;34m,\u001b[0m \u001b[0mn_jobs\u001b[0m\u001b[0;34m=\u001b[0m\u001b[0mself\u001b[0m\u001b[0;34m.\u001b[0m\u001b[0m_n_jobs\u001b[0m\u001b[0;34m)\u001b[0m\u001b[0;34m:\u001b[0m\u001b[0;34m\u001b[0m\u001b[0;34m\u001b[0m\u001b[0m\n\u001b[1;32m    252\u001b[0m             return [func(*args, **kwargs)\n\u001b[0;32m--> 253\u001b[0;31m                     for func, args, kwargs in self.items]\n\u001b[0m\u001b[1;32m    254\u001b[0m \u001b[0;34m\u001b[0m\u001b[0m\n\u001b[1;32m    255\u001b[0m     \u001b[0;32mdef\u001b[0m \u001b[0m__reduce__\u001b[0m\u001b[0;34m(\u001b[0m\u001b[0mself\u001b[0m\u001b[0;34m)\u001b[0m\u001b[0;34m:\u001b[0m\u001b[0;34m\u001b[0m\u001b[0;34m\u001b[0m\u001b[0m\n",
      "\u001b[0;32m~/.virtualenvs/dale/lib/python3.6/site-packages/joblib/parallel.py\u001b[0m in \u001b[0;36m<listcomp>\u001b[0;34m(.0)\u001b[0m\n\u001b[1;32m    251\u001b[0m         \u001b[0;32mwith\u001b[0m \u001b[0mparallel_backend\u001b[0m\u001b[0;34m(\u001b[0m\u001b[0mself\u001b[0m\u001b[0;34m.\u001b[0m\u001b[0m_backend\u001b[0m\u001b[0;34m,\u001b[0m \u001b[0mn_jobs\u001b[0m\u001b[0;34m=\u001b[0m\u001b[0mself\u001b[0m\u001b[0;34m.\u001b[0m\u001b[0m_n_jobs\u001b[0m\u001b[0;34m)\u001b[0m\u001b[0;34m:\u001b[0m\u001b[0;34m\u001b[0m\u001b[0;34m\u001b[0m\u001b[0m\n\u001b[1;32m    252\u001b[0m             return [func(*args, **kwargs)\n\u001b[0;32m--> 253\u001b[0;31m                     for func, args, kwargs in self.items]\n\u001b[0m\u001b[1;32m    254\u001b[0m \u001b[0;34m\u001b[0m\u001b[0m\n\u001b[1;32m    255\u001b[0m     \u001b[0;32mdef\u001b[0m \u001b[0m__reduce__\u001b[0m\u001b[0;34m(\u001b[0m\u001b[0mself\u001b[0m\u001b[0;34m)\u001b[0m\u001b[0;34m:\u001b[0m\u001b[0;34m\u001b[0m\u001b[0;34m\u001b[0m\u001b[0m\n",
      "\u001b[0;32m~/.virtualenvs/dale/lib/python3.6/site-packages/sklearn/ensemble/_forest.py\u001b[0m in \u001b[0;36m_parallel_build_trees\u001b[0;34m(tree, forest, X, y, sample_weight, tree_idx, n_trees, verbose, class_weight, n_samples_bootstrap)\u001b[0m\n\u001b[1;32m    166\u001b[0m                                                         indices=indices)\n\u001b[1;32m    167\u001b[0m \u001b[0;34m\u001b[0m\u001b[0m\n\u001b[0;32m--> 168\u001b[0;31m         \u001b[0mtree\u001b[0m\u001b[0;34m.\u001b[0m\u001b[0mfit\u001b[0m\u001b[0;34m(\u001b[0m\u001b[0mX\u001b[0m\u001b[0;34m,\u001b[0m \u001b[0my\u001b[0m\u001b[0;34m,\u001b[0m \u001b[0msample_weight\u001b[0m\u001b[0;34m=\u001b[0m\u001b[0mcurr_sample_weight\u001b[0m\u001b[0;34m,\u001b[0m \u001b[0mcheck_input\u001b[0m\u001b[0;34m=\u001b[0m\u001b[0;32mFalse\u001b[0m\u001b[0;34m)\u001b[0m\u001b[0;34m\u001b[0m\u001b[0;34m\u001b[0m\u001b[0m\n\u001b[0m\u001b[1;32m    169\u001b[0m     \u001b[0;32melse\u001b[0m\u001b[0;34m:\u001b[0m\u001b[0;34m\u001b[0m\u001b[0;34m\u001b[0m\u001b[0m\n\u001b[1;32m    170\u001b[0m         \u001b[0mtree\u001b[0m\u001b[0;34m.\u001b[0m\u001b[0mfit\u001b[0m\u001b[0;34m(\u001b[0m\u001b[0mX\u001b[0m\u001b[0;34m,\u001b[0m \u001b[0my\u001b[0m\u001b[0;34m,\u001b[0m \u001b[0msample_weight\u001b[0m\u001b[0;34m=\u001b[0m\u001b[0msample_weight\u001b[0m\u001b[0;34m,\u001b[0m \u001b[0mcheck_input\u001b[0m\u001b[0;34m=\u001b[0m\u001b[0;32mFalse\u001b[0m\u001b[0;34m)\u001b[0m\u001b[0;34m\u001b[0m\u001b[0;34m\u001b[0m\u001b[0m\n",
      "\u001b[0;32m~/.virtualenvs/dale/lib/python3.6/site-packages/sklearn/tree/_classes.py\u001b[0m in \u001b[0;36mfit\u001b[0;34m(self, X, y, sample_weight, check_input, X_idx_sorted)\u001b[0m\n\u001b[1;32m    892\u001b[0m             \u001b[0msample_weight\u001b[0m\u001b[0;34m=\u001b[0m\u001b[0msample_weight\u001b[0m\u001b[0;34m,\u001b[0m\u001b[0;34m\u001b[0m\u001b[0;34m\u001b[0m\u001b[0m\n\u001b[1;32m    893\u001b[0m             \u001b[0mcheck_input\u001b[0m\u001b[0;34m=\u001b[0m\u001b[0mcheck_input\u001b[0m\u001b[0;34m,\u001b[0m\u001b[0;34m\u001b[0m\u001b[0;34m\u001b[0m\u001b[0m\n\u001b[0;32m--> 894\u001b[0;31m             X_idx_sorted=X_idx_sorted)\n\u001b[0m\u001b[1;32m    895\u001b[0m         \u001b[0;32mreturn\u001b[0m \u001b[0mself\u001b[0m\u001b[0;34m\u001b[0m\u001b[0;34m\u001b[0m\u001b[0m\n\u001b[1;32m    896\u001b[0m \u001b[0;34m\u001b[0m\u001b[0m\n",
      "\u001b[0;32m~/.virtualenvs/dale/lib/python3.6/site-packages/sklearn/tree/_classes.py\u001b[0m in \u001b[0;36mfit\u001b[0;34m(self, X, y, sample_weight, check_input, X_idx_sorted)\u001b[0m\n\u001b[1;32m    373\u001b[0m                                            min_impurity_split)\n\u001b[1;32m    374\u001b[0m \u001b[0;34m\u001b[0m\u001b[0m\n\u001b[0;32m--> 375\u001b[0;31m         \u001b[0mbuilder\u001b[0m\u001b[0;34m.\u001b[0m\u001b[0mbuild\u001b[0m\u001b[0;34m(\u001b[0m\u001b[0mself\u001b[0m\u001b[0;34m.\u001b[0m\u001b[0mtree_\u001b[0m\u001b[0;34m,\u001b[0m \u001b[0mX\u001b[0m\u001b[0;34m,\u001b[0m \u001b[0my\u001b[0m\u001b[0;34m,\u001b[0m \u001b[0msample_weight\u001b[0m\u001b[0;34m,\u001b[0m \u001b[0mX_idx_sorted\u001b[0m\u001b[0;34m)\u001b[0m\u001b[0;34m\u001b[0m\u001b[0;34m\u001b[0m\u001b[0m\n\u001b[0m\u001b[1;32m    376\u001b[0m \u001b[0;34m\u001b[0m\u001b[0m\n\u001b[1;32m    377\u001b[0m         \u001b[0;32mif\u001b[0m \u001b[0mself\u001b[0m\u001b[0;34m.\u001b[0m\u001b[0mn_outputs_\u001b[0m \u001b[0;34m==\u001b[0m \u001b[0;36m1\u001b[0m \u001b[0;32mand\u001b[0m \u001b[0mis_classifier\u001b[0m\u001b[0;34m(\u001b[0m\u001b[0mself\u001b[0m\u001b[0;34m)\u001b[0m\u001b[0;34m:\u001b[0m\u001b[0;34m\u001b[0m\u001b[0;34m\u001b[0m\u001b[0m\n",
      "\u001b[0;31mKeyboardInterrupt\u001b[0m: "
     ]
    }
   ],
   "source": [
    "for i in range(1):\n",
    "    from sklearn.ensemble import RandomForestClassifier\n",
    "    breakpoint1 = int(0.6 * my_data.shape[0])\n",
    "    breakpoint2 = int(0.8*my_data.shape[0])\n",
    "\n",
    "    X_train, y_train = X[:breakpoint1], y[:breakpoint1]\n",
    "\n",
    "    X_dev, y_dev = X[breakpoint1:breakpoint2], y[breakpoint1:breakpoint2]\n",
    "\n",
    "    from sklearn.ensemble import RandomForestClassifier\n",
    "    rf = RandomForestClassifier(random_state = 42, max_features = math.ceil(math.sqrt(len(features))), max_depth = 29, min_samples_leaf = min_samples_leaf)\n",
    "    from pprint import pprint\n",
    "    print('Parameters currently in use:\\n')\n",
    "    pprint(rf.get_params())\n",
    "\n",
    "\n",
    "    rf.fit(X_train, y_train)\n",
    "\n",
    "    y_pred_dev = rf.predict(X_dev)\n",
    "    y_pred_train = rf.predict(X_train)\n",
    "\n",
    "    from sklearn import metrics\n",
    "    #print(\"Validation accuracy \", metrics.accuracy_score(y_dev, y_pred_dev))\n",
    "    #print(\"Accuracy:\",metrics.accuracy_score(y_dev, y_pred_dev))\n",
    "    print(\"For \" + str(min_sample_leaf) + \" we have: \")\n",
    "    print(\"Training error: \" + str(round( (1 - metrics.accuracy_score(y_train, y_pred_train) )*100, 2)) + \"%\") \n",
    "    print(\"Validation error: \" + str(round( (1 - metrics.accuracy_score(y_dev, y_pred_dev) )*100, 2)) + \"%\") "
   ]
  },
  {
   "cell_type": "code",
   "execution_count": 2,
   "metadata": {},
   "outputs": [
    {
     "data": {
      "text/plain": [
       "(741522, 79)"
      ]
     },
     "execution_count": 2,
     "metadata": {},
     "output_type": "execute_result"
    }
   ],
   "source": [
    "X_train.shape"
   ]
  },
  {
   "cell_type": "code",
   "execution_count": 3,
   "metadata": {},
   "outputs": [
    {
     "data": {
      "text/plain": [
       "(247174, 79)"
      ]
     },
     "execution_count": 3,
     "metadata": {},
     "output_type": "execute_result"
    }
   ],
   "source": [
    "X_dev.shape"
   ]
  },
  {
   "cell_type": "code",
   "execution_count": 6,
   "metadata": {},
   "outputs": [
    {
     "data": {
      "image/png": "[encoded data removed]",
      "text/plain": [
       "<Figure size 864x288 with 1 Axes>"
      ]
     },
     "metadata": {
      "needs_background": "light"
     },
     "output_type": "display_data"
    },
    {
     "data": {
      "text/plain": [
       "<Figure size 432x288 with 0 Axes>"
      ]
     },
     "metadata": {},
     "output_type": "display_data"
    }
   ],
   "source": [
    "from pathlib import Path\n",
    "from matplotlib.pyplot import figure, draw\n",
    "from matplotlib import pyplot as plt\n",
    "fn = Path('/scratch/iliant/sigtime.svg').expanduser()\n",
    "\n",
    "\n",
    "\n",
    "\n",
    "\n",
    "\n",
    "\n",
    "\n",
    "import matplotlib.pyplot as plt\n",
    "#training = [0.08, 0.7, 2.05, 3.84, 5.08, 6.64, 8.77, 10.37, 11.25]\n",
    "validation = [5.2, 5.8, 8.16,  11.84, 18.3, 33.5 ]\n",
    "deg = [2, 3, 4, 5, 6, 7]\n",
    "\n",
    "fig2 = plt.figure(figsize = (12,4))\n",
    "\n",
    "#training_plot, = plt.plot(deg, training, 'k-');\n",
    "validation_plot, = plt.plot(deg, validation, 'k-');\n",
    "#plt.legend([validation_plot],[\"time\"])\n",
    "#plt.axhline(y=min(validation), color='b', linestyle='--')\n",
    "#plt.axhline(y=min(training), color = 'r', linestyle='--')\n",
    "plt.xlabel(\"signature degree\", fontsize=13)\n",
    "plt.ylabel(\"time in minutes\",fontsize=13)\n",
    "plt.tick_params(labelsize='large')\n",
    "#plt.title(\"Top 26 features, max_features = 6, max_depth = 29\")\n",
    "plt.ylim([0,49])\n",
    "plt.xlim([2,7])\n",
    "plt.show()\n",
    "\n",
    "draw() # necessary to render figure before saving\n",
    "fig2.savefig(fn, bbox_inches='tight')\n",
    "\n"
   ]
  },
  {
   "cell_type": "code",
   "execution_count": 12,
   "metadata": {},
   "outputs": [
    {
     "data": {
      "text/html": [
       "<div>\n",
       "<style scoped>\n",
       "    .dataframe tbody tr th:only-of-type {\n",
       "        vertical-align: middle;\n",
       "    }\n",
       "\n",
       "    .dataframe tbody tr th {\n",
       "        vertical-align: top;\n",
       "    }\n",
       "\n",
       "    .dataframe thead th {\n",
       "        text-align: right;\n",
       "    }\n",
       "</style>\n",
       "<table border=\"1\" class=\"dataframe\">\n",
       "  <thead>\n",
       "    <tr style=\"text-align: right;\">\n",
       "      <th></th>\n",
       "      <th>9</th>\n",
       "      <th>4</th>\n",
       "      <th>60</th>\n",
       "      <th>7</th>\n",
       "      <th>10</th>\n",
       "      <th>42</th>\n",
       "      <th>17</th>\n",
       "      <th>5</th>\n",
       "      <th>23</th>\n",
       "      <th>25</th>\n",
       "      <th>...</th>\n",
       "      <th>22</th>\n",
       "      <th>30</th>\n",
       "      <th>39</th>\n",
       "      <th>41</th>\n",
       "      <th>44</th>\n",
       "      <th>46</th>\n",
       "      <th>52</th>\n",
       "      <th>54</th>\n",
       "      <th>57</th>\n",
       "      <th>66</th>\n",
       "    </tr>\n",
       "    <tr>\n",
       "      <th>index</th>\n",
       "      <th></th>\n",
       "      <th></th>\n",
       "      <th></th>\n",
       "      <th></th>\n",
       "      <th></th>\n",
       "      <th></th>\n",
       "      <th></th>\n",
       "      <th></th>\n",
       "      <th></th>\n",
       "      <th></th>\n",
       "      <th></th>\n",
       "      <th></th>\n",
       "      <th></th>\n",
       "      <th></th>\n",
       "      <th></th>\n",
       "      <th></th>\n",
       "      <th></th>\n",
       "      <th></th>\n",
       "      <th></th>\n",
       "      <th></th>\n",
       "      <th></th>\n",
       "    </tr>\n",
       "  </thead>\n",
       "  <tbody>\n",
       "    <tr>\n",
       "      <th>1</th>\n",
       "      <td>0.000699</td>\n",
       "      <td>0.001479</td>\n",
       "      <td>0.000198</td>\n",
       "      <td>0.001326</td>\n",
       "      <td>0.003939</td>\n",
       "      <td>0.000157</td>\n",
       "      <td>0.000272</td>\n",
       "      <td>-0.012129</td>\n",
       "      <td>0.002417</td>\n",
       "      <td>0.000120</td>\n",
       "      <td>...</td>\n",
       "      <td>0.003354</td>\n",
       "      <td>0.000013</td>\n",
       "      <td>0.000118</td>\n",
       "      <td>0.000067</td>\n",
       "      <td>0.000275</td>\n",
       "      <td>0.000376</td>\n",
       "      <td>-0.000529</td>\n",
       "      <td>0.000237</td>\n",
       "      <td>0.000115</td>\n",
       "      <td>0.000400</td>\n",
       "    </tr>\n",
       "    <tr>\n",
       "      <th>2</th>\n",
       "      <td>0.000685</td>\n",
       "      <td>0.001454</td>\n",
       "      <td>0.000191</td>\n",
       "      <td>0.001324</td>\n",
       "      <td>0.003903</td>\n",
       "      <td>0.000160</td>\n",
       "      <td>0.000269</td>\n",
       "      <td>-0.012099</td>\n",
       "      <td>0.002401</td>\n",
       "      <td>0.000105</td>\n",
       "      <td>...</td>\n",
       "      <td>0.003343</td>\n",
       "      <td>0.000013</td>\n",
       "      <td>0.000117</td>\n",
       "      <td>0.000069</td>\n",
       "      <td>0.000274</td>\n",
       "      <td>0.000374</td>\n",
       "      <td>-0.000524</td>\n",
       "      <td>0.000238</td>\n",
       "      <td>0.000100</td>\n",
       "      <td>0.000396</td>\n",
       "    </tr>\n",
       "    <tr>\n",
       "      <th>3</th>\n",
       "      <td>0.000657</td>\n",
       "      <td>0.001426</td>\n",
       "      <td>0.000184</td>\n",
       "      <td>0.001308</td>\n",
       "      <td>0.003863</td>\n",
       "      <td>0.000154</td>\n",
       "      <td>0.000271</td>\n",
       "      <td>-0.012192</td>\n",
       "      <td>0.002410</td>\n",
       "      <td>0.000100</td>\n",
       "      <td>...</td>\n",
       "      <td>0.003369</td>\n",
       "      <td>0.000013</td>\n",
       "      <td>0.000116</td>\n",
       "      <td>0.000063</td>\n",
       "      <td>0.000270</td>\n",
       "      <td>0.000369</td>\n",
       "      <td>-0.000517</td>\n",
       "      <td>0.000233</td>\n",
       "      <td>0.000076</td>\n",
       "      <td>0.000391</td>\n",
       "    </tr>\n",
       "    <tr>\n",
       "      <th>4</th>\n",
       "      <td>0.000672</td>\n",
       "      <td>0.001537</td>\n",
       "      <td>0.000181</td>\n",
       "      <td>0.001326</td>\n",
       "      <td>0.003907</td>\n",
       "      <td>0.000159</td>\n",
       "      <td>0.000278</td>\n",
       "      <td>-0.012113</td>\n",
       "      <td>0.002424</td>\n",
       "      <td>0.000110</td>\n",
       "      <td>...</td>\n",
       "      <td>0.003358</td>\n",
       "      <td>0.000012</td>\n",
       "      <td>0.000117</td>\n",
       "      <td>0.000071</td>\n",
       "      <td>0.000274</td>\n",
       "      <td>0.000375</td>\n",
       "      <td>-0.000523</td>\n",
       "      <td>0.000240</td>\n",
       "      <td>0.000089</td>\n",
       "      <td>0.000397</td>\n",
       "    </tr>\n",
       "    <tr>\n",
       "      <th>5</th>\n",
       "      <td>0.000678</td>\n",
       "      <td>0.001488</td>\n",
       "      <td>0.000194</td>\n",
       "      <td>0.001328</td>\n",
       "      <td>0.003929</td>\n",
       "      <td>0.000158</td>\n",
       "      <td>0.000269</td>\n",
       "      <td>-0.012189</td>\n",
       "      <td>0.002415</td>\n",
       "      <td>0.000123</td>\n",
       "      <td>...</td>\n",
       "      <td>0.003366</td>\n",
       "      <td>0.000013</td>\n",
       "      <td>0.000118</td>\n",
       "      <td>0.000066</td>\n",
       "      <td>0.000275</td>\n",
       "      <td>0.000377</td>\n",
       "      <td>-0.000528</td>\n",
       "      <td>0.000237</td>\n",
       "      <td>0.000103</td>\n",
       "      <td>0.000399</td>\n",
       "    </tr>\n",
       "  </tbody>\n",
       "</table>\n",
       "<p>5 rows × 26 columns</p>\n",
       "</div>"
      ],
      "text/plain": [
       "             9         4         60        7         10        42        17  \\\n",
       "index                                                                         \n",
       "1      0.000699  0.001479  0.000198  0.001326  0.003939  0.000157  0.000272   \n",
       "2      0.000685  0.001454  0.000191  0.001324  0.003903  0.000160  0.000269   \n",
       "3      0.000657  0.001426  0.000184  0.001308  0.003863  0.000154  0.000271   \n",
       "4      0.000672  0.001537  0.000181  0.001326  0.003907  0.000159  0.000278   \n",
       "5      0.000678  0.001488  0.000194  0.001328  0.003929  0.000158  0.000269   \n",
       "\n",
       "             5         23        25  ...        22        30        39  \\\n",
       "index                                ...                                 \n",
       "1     -0.012129  0.002417  0.000120  ...  0.003354  0.000013  0.000118   \n",
       "2     -0.012099  0.002401  0.000105  ...  0.003343  0.000013  0.000117   \n",
       "3     -0.012192  0.002410  0.000100  ...  0.003369  0.000013  0.000116   \n",
       "4     -0.012113  0.002424  0.000110  ...  0.003358  0.000012  0.000117   \n",
       "5     -0.012189  0.002415  0.000123  ...  0.003366  0.000013  0.000118   \n",
       "\n",
       "             41        44        46        52        54        57        66  \n",
       "index                                                                        \n",
       "1      0.000067  0.000275  0.000376 -0.000529  0.000237  0.000115  0.000400  \n",
       "2      0.000069  0.000274  0.000374 -0.000524  0.000238  0.000100  0.000396  \n",
       "3      0.000063  0.000270  0.000369 -0.000517  0.000233  0.000076  0.000391  \n",
       "4      0.000071  0.000274  0.000375 -0.000523  0.000240  0.000089  0.000397  \n",
       "5      0.000066  0.000275  0.000377 -0.000528  0.000237  0.000103  0.000399  \n",
       "\n",
       "[5 rows x 26 columns]"
      ]
     },
     "execution_count": 12,
     "metadata": {},
     "output_type": "execute_result"
    }
   ],
   "source": [
    "X_train.head()"
   ]
  },
  {
   "cell_type": "code",
   "execution_count": 15,
   "metadata": {},
   "outputs": [
    {
     "data": {
      "text/html": [
       "<div>\n",
       "<style scoped>\n",
       "    .dataframe tbody tr th:only-of-type {\n",
       "        vertical-align: middle;\n",
       "    }\n",
       "\n",
       "    .dataframe tbody tr th {\n",
       "        vertical-align: top;\n",
       "    }\n",
       "\n",
       "    .dataframe thead th {\n",
       "        text-align: right;\n",
       "    }\n",
       "</style>\n",
       "<table border=\"1\" class=\"dataframe\">\n",
       "  <thead>\n",
       "    <tr style=\"text-align: right;\">\n",
       "      <th></th>\n",
       "      <th>9</th>\n",
       "      <th>4</th>\n",
       "      <th>60</th>\n",
       "      <th>7</th>\n",
       "      <th>10</th>\n",
       "      <th>42</th>\n",
       "      <th>17</th>\n",
       "      <th>5</th>\n",
       "      <th>23</th>\n",
       "      <th>25</th>\n",
       "      <th>...</th>\n",
       "      <th>22</th>\n",
       "      <th>30</th>\n",
       "      <th>39</th>\n",
       "      <th>41</th>\n",
       "      <th>44</th>\n",
       "      <th>46</th>\n",
       "      <th>52</th>\n",
       "      <th>54</th>\n",
       "      <th>57</th>\n",
       "      <th>66</th>\n",
       "    </tr>\n",
       "    <tr>\n",
       "      <th>index</th>\n",
       "      <th></th>\n",
       "      <th></th>\n",
       "      <th></th>\n",
       "      <th></th>\n",
       "      <th></th>\n",
       "      <th></th>\n",
       "      <th></th>\n",
       "      <th></th>\n",
       "      <th></th>\n",
       "      <th></th>\n",
       "      <th></th>\n",
       "      <th></th>\n",
       "      <th></th>\n",
       "      <th></th>\n",
       "      <th></th>\n",
       "      <th></th>\n",
       "      <th></th>\n",
       "      <th></th>\n",
       "      <th></th>\n",
       "      <th></th>\n",
       "      <th></th>\n",
       "    </tr>\n",
       "  </thead>\n",
       "  <tbody>\n",
       "    <tr>\n",
       "      <th>1823</th>\n",
       "      <td>0.000343</td>\n",
       "      <td>0.001095</td>\n",
       "      <td>0.000078</td>\n",
       "      <td>0.000803</td>\n",
       "      <td>0.002382</td>\n",
       "      <td>0.000084</td>\n",
       "      <td>0.000212</td>\n",
       "      <td>-0.009663</td>\n",
       "      <td>0.001917</td>\n",
       "      <td>0.000058</td>\n",
       "      <td>...</td>\n",
       "      <td>0.002654</td>\n",
       "      <td>0.000003</td>\n",
       "      <td>0.000069</td>\n",
       "      <td>0.000056</td>\n",
       "      <td>0.000166</td>\n",
       "      <td>0.000229</td>\n",
       "      <td>-0.000321</td>\n",
       "      <td>0.000145</td>\n",
       "      <td>0.000089</td>\n",
       "      <td>0.000249</td>\n",
       "    </tr>\n",
       "    <tr>\n",
       "      <th>1824</th>\n",
       "      <td>0.001560</td>\n",
       "      <td>-0.000453</td>\n",
       "      <td>0.000417</td>\n",
       "      <td>0.001696</td>\n",
       "      <td>0.004855</td>\n",
       "      <td>0.000307</td>\n",
       "      <td>0.000025</td>\n",
       "      <td>-0.009909</td>\n",
       "      <td>0.001416</td>\n",
       "      <td>-0.000302</td>\n",
       "      <td>...</td>\n",
       "      <td>0.002366</td>\n",
       "      <td>0.000015</td>\n",
       "      <td>0.000163</td>\n",
       "      <td>0.000118</td>\n",
       "      <td>0.000346</td>\n",
       "      <td>0.000447</td>\n",
       "      <td>-0.000645</td>\n",
       "      <td>0.000306</td>\n",
       "      <td>0.000239</td>\n",
       "      <td>0.000476</td>\n",
       "    </tr>\n",
       "  </tbody>\n",
       "</table>\n",
       "<p>2 rows × 26 columns</p>\n",
       "</div>"
      ],
      "text/plain": [
       "             9         4         60        7         10        42        17  \\\n",
       "index                                                                         \n",
       "1823   0.000343  0.001095  0.000078  0.000803  0.002382  0.000084  0.000212   \n",
       "1824   0.001560 -0.000453  0.000417  0.001696  0.004855  0.000307  0.000025   \n",
       "\n",
       "             5         23        25  ...        22        30        39  \\\n",
       "index                                ...                                 \n",
       "1823  -0.009663  0.001917  0.000058  ...  0.002654  0.000003  0.000069   \n",
       "1824  -0.009909  0.001416 -0.000302  ...  0.002366  0.000015  0.000163   \n",
       "\n",
       "             41        44        46        52        54        57        66  \n",
       "index                                                                        \n",
       "1823   0.000056  0.000166  0.000229 -0.000321  0.000145  0.000089  0.000249  \n",
       "1824   0.000118  0.000346  0.000447 -0.000645  0.000306  0.000239  0.000476  \n",
       "\n",
       "[2 rows x 26 columns]"
      ]
     },
     "execution_count": 15,
     "metadata": {},
     "output_type": "execute_result"
    }
   ],
   "source": [
    "X_train[1822:1824]"
   ]
  },
  {
   "cell_type": "code",
   "execution_count": 54,
   "metadata": {},
   "outputs": [
    {
     "name": "stderr",
     "output_type": "stream",
     "text": [
      "/home/iliant/.virtualenvs/dale/lib/python3.6/site-packages/ipykernel_launcher.py:12: MatplotlibDeprecationWarning: Adding an axes using the same arguments as a previous axes currently reuses the earlier instance.  In a future version, a new instance will always be created and returned.  Meanwhile, this warning can be suppressed, and the future behavior ensured, by passing a unique label to each axes instance.\n",
      "  if sys.path[0] == '':\n"
     ]
    },
    {
     "data": {
      "image/png": "[encoded data removed]",
      "text/plain": [
       "<Figure size 921.6x345.6 with 1 Axes>"
      ]
     },
     "metadata": {
      "needs_background": "light"
     },
     "output_type": "display_data"
    }
   ],
   "source": [
    "import numpy as np\n",
    "import matplotlib.pyplot as plt\n",
    "\n",
    "a = 26\n",
    "b = sum(sorted(importances, reverse=True)[:27])\n",
    "\n",
    "fig = plt.figure(figsize=(12.8,4.8))\n",
    "x=np.arange(1,80)\n",
    "plt.plot(x,np.cumsum(sorted(np.array(importances)*100, reverse=True)))\n",
    "\n",
    "\n",
    "ax2=plt.axes()\n",
    "ax2.plot((26,26),(0,83.23), 'm')\n",
    "ax2.plot((0,26),(83.23,83.23), 'm')\n",
    "ax2.set_xlim([0,80])\n",
    "ax2.set_ylim([0,102])\n",
    "ax2.set_xlabel(\"features ordered in decreasing order of their importance\")\n",
    "ax2.set_ylabel(\"cumulative importance measured as a percentage\")\n",
    "plt.show()"
   ]
  },
  {
   "cell_type": "code",
   "execution_count": 6,
   "metadata": {},
   "outputs": [
    {
     "name": "stdout",
     "output_type": "stream",
     "text": [
      "Parameters currently in use:\n",
      "\n",
      "{'bootstrap': True,\n",
      " 'ccp_alpha': 0.0,\n",
      " 'class_weight': None,\n",
      " 'criterion': 'gini',\n",
      " 'max_depth': None,\n",
      " 'max_features': 9,\n",
      " 'max_leaf_nodes': None,\n",
      " 'max_samples': None,\n",
      " 'min_impurity_decrease': 0.0,\n",
      " 'min_impurity_split': None,\n",
      " 'min_samples_leaf': 1,\n",
      " 'min_samples_split': 2,\n",
      " 'min_weight_fraction_leaf': 0.0,\n",
      " 'n_estimators': 2,\n",
      " 'n_jobs': None,\n",
      " 'oob_score': False,\n",
      " 'random_state': 42,\n",
      " 'verbose': 0,\n",
      " 'warm_start': False}\n"
     ]
    },
    {
     "ename": "KeyError",
     "evalue": "0",
     "output_type": "error",
     "traceback": [
      "\u001b[0;31m---------------------------------------------------------------------------\u001b[0m",
      "\u001b[0;31mKeyError\u001b[0m                                  Traceback (most recent call last)",
      "\u001b[0;32m~/.virtualenvs/dale/lib/python3.6/site-packages/pandas/core/indexes/base.py\u001b[0m in \u001b[0;36mget_loc\u001b[0;34m(self, key, method, tolerance)\u001b[0m\n\u001b[1;32m   2888\u001b[0m             \u001b[0;32mtry\u001b[0m\u001b[0;34m:\u001b[0m\u001b[0;34m\u001b[0m\u001b[0;34m\u001b[0m\u001b[0m\n\u001b[0;32m-> 2889\u001b[0;31m                 \u001b[0;32mreturn\u001b[0m \u001b[0mself\u001b[0m\u001b[0;34m.\u001b[0m\u001b[0m_engine\u001b[0m\u001b[0;34m.\u001b[0m\u001b[0mget_loc\u001b[0m\u001b[0;34m(\u001b[0m\u001b[0mcasted_key\u001b[0m\u001b[0;34m)\u001b[0m\u001b[0;34m\u001b[0m\u001b[0;34m\u001b[0m\u001b[0m\n\u001b[0m\u001b[1;32m   2890\u001b[0m             \u001b[0;32mexcept\u001b[0m \u001b[0mKeyError\u001b[0m \u001b[0;32mas\u001b[0m \u001b[0merr\u001b[0m\u001b[0;34m:\u001b[0m\u001b[0;34m\u001b[0m\u001b[0;34m\u001b[0m\u001b[0m\n",
      "\u001b[0;32mpandas/_libs/index.pyx\u001b[0m in \u001b[0;36mpandas._libs.index.IndexEngine.get_loc\u001b[0;34m()\u001b[0m\n",
      "\u001b[0;32mpandas/_libs/index.pyx\u001b[0m in \u001b[0;36mpandas._libs.index.IndexEngine.get_loc\u001b[0;34m()\u001b[0m\n",
      "\u001b[0;32mpandas/_libs/hashtable_class_helper.pxi\u001b[0m in \u001b[0;36mpandas._libs.hashtable.Int64HashTable.get_item\u001b[0;34m()\u001b[0m\n",
      "\u001b[0;32mpandas/_libs/hashtable_class_helper.pxi\u001b[0m in \u001b[0;36mpandas._libs.hashtable.Int64HashTable.get_item\u001b[0;34m()\u001b[0m\n",
      "\u001b[0;31mKeyError\u001b[0m: 0",
      "\nThe above exception was the direct cause of the following exception:\n",
      "\u001b[0;31mKeyError\u001b[0m                                  Traceback (most recent call last)",
      "\u001b[0;32m<timed exec>\u001b[0m in \u001b[0;36m<module>\u001b[0;34m\u001b[0m\n",
      "\u001b[0;32m<timed exec>\u001b[0m in \u001b[0;36m<listcomp>\u001b[0;34m(.0)\u001b[0m\n",
      "\u001b[0;32m~/.virtualenvs/dale/lib/python3.6/site-packages/pandas/core/frame.py\u001b[0m in \u001b[0;36m__getitem__\u001b[0;34m(self, key)\u001b[0m\n\u001b[1;32m   2897\u001b[0m             \u001b[0;32mif\u001b[0m \u001b[0mself\u001b[0m\u001b[0;34m.\u001b[0m\u001b[0mcolumns\u001b[0m\u001b[0;34m.\u001b[0m\u001b[0mnlevels\u001b[0m \u001b[0;34m>\u001b[0m \u001b[0;36m1\u001b[0m\u001b[0;34m:\u001b[0m\u001b[0;34m\u001b[0m\u001b[0;34m\u001b[0m\u001b[0m\n\u001b[1;32m   2898\u001b[0m                 \u001b[0;32mreturn\u001b[0m \u001b[0mself\u001b[0m\u001b[0;34m.\u001b[0m\u001b[0m_getitem_multilevel\u001b[0m\u001b[0;34m(\u001b[0m\u001b[0mkey\u001b[0m\u001b[0;34m)\u001b[0m\u001b[0;34m\u001b[0m\u001b[0;34m\u001b[0m\u001b[0m\n\u001b[0;32m-> 2899\u001b[0;31m             \u001b[0mindexer\u001b[0m \u001b[0;34m=\u001b[0m \u001b[0mself\u001b[0m\u001b[0;34m.\u001b[0m\u001b[0mcolumns\u001b[0m\u001b[0;34m.\u001b[0m\u001b[0mget_loc\u001b[0m\u001b[0;34m(\u001b[0m\u001b[0mkey\u001b[0m\u001b[0;34m)\u001b[0m\u001b[0;34m\u001b[0m\u001b[0;34m\u001b[0m\u001b[0m\n\u001b[0m\u001b[1;32m   2900\u001b[0m             \u001b[0;32mif\u001b[0m \u001b[0mis_integer\u001b[0m\u001b[0;34m(\u001b[0m\u001b[0mindexer\u001b[0m\u001b[0;34m)\u001b[0m\u001b[0;34m:\u001b[0m\u001b[0;34m\u001b[0m\u001b[0;34m\u001b[0m\u001b[0m\n\u001b[1;32m   2901\u001b[0m                 \u001b[0mindexer\u001b[0m \u001b[0;34m=\u001b[0m \u001b[0;34m[\u001b[0m\u001b[0mindexer\u001b[0m\u001b[0;34m]\u001b[0m\u001b[0;34m\u001b[0m\u001b[0;34m\u001b[0m\u001b[0m\n",
      "\u001b[0;32m~/.virtualenvs/dale/lib/python3.6/site-packages/pandas/core/indexes/base.py\u001b[0m in \u001b[0;36mget_loc\u001b[0;34m(self, key, method, tolerance)\u001b[0m\n\u001b[1;32m   2889\u001b[0m                 \u001b[0;32mreturn\u001b[0m \u001b[0mself\u001b[0m\u001b[0;34m.\u001b[0m\u001b[0m_engine\u001b[0m\u001b[0;34m.\u001b[0m\u001b[0mget_loc\u001b[0m\u001b[0;34m(\u001b[0m\u001b[0mcasted_key\u001b[0m\u001b[0;34m)\u001b[0m\u001b[0;34m\u001b[0m\u001b[0;34m\u001b[0m\u001b[0m\n\u001b[1;32m   2890\u001b[0m             \u001b[0;32mexcept\u001b[0m \u001b[0mKeyError\u001b[0m \u001b[0;32mas\u001b[0m \u001b[0merr\u001b[0m\u001b[0;34m:\u001b[0m\u001b[0;34m\u001b[0m\u001b[0;34m\u001b[0m\u001b[0m\n\u001b[0;32m-> 2891\u001b[0;31m                 \u001b[0;32mraise\u001b[0m \u001b[0mKeyError\u001b[0m\u001b[0;34m(\u001b[0m\u001b[0mkey\u001b[0m\u001b[0;34m)\u001b[0m \u001b[0;32mfrom\u001b[0m \u001b[0merr\u001b[0m\u001b[0;34m\u001b[0m\u001b[0;34m\u001b[0m\u001b[0m\n\u001b[0m\u001b[1;32m   2892\u001b[0m \u001b[0;34m\u001b[0m\u001b[0m\n\u001b[1;32m   2893\u001b[0m         \u001b[0;32mif\u001b[0m \u001b[0mtolerance\u001b[0m \u001b[0;32mis\u001b[0m \u001b[0;32mnot\u001b[0m \u001b[0;32mNone\u001b[0m\u001b[0;34m:\u001b[0m\u001b[0;34m\u001b[0m\u001b[0;34m\u001b[0m\u001b[0m\n",
      "\u001b[0;31mKeyError\u001b[0m: 0"
     ]
    }
   ],
   "source": [
    "%%time\n",
    "import pickle \n",
    "import pandas as pd\n",
    "import numpy as np\n",
    "import math\n",
    "my_data = pd.read_pickle(\"5log_signature_1cyclePerSec_2015_weeks_8_9\")\n",
    "#drop column of ones\n",
    "columns = 1 + np.arange(my_data.shape[1] - 1)\n",
    "my_data = my_data[columns]\n",
    "\n",
    "#get features\n",
    "features = 1 + np.arange(my_data.shape[1] - 1)\n",
    "X, y = my_data[features], my_data[my_data.shape[1]]\n",
    "\n",
    "#train dev test 60 20 20\n",
    "breakpoint1 = int(0.6 * my_data.shape[0])\n",
    "breakpoint2 = int(0.8 * my_data.shape[0])\n",
    "\n",
    "X_train, y_train = X[:breakpoint1], y[:breakpoint1]\n",
    "\n",
    "X_dev, y_dev = X[breakpoint1:breakpoint2], y[breakpoint1:breakpoint2]\n",
    "\n",
    "X_test, y_test = X[breakpoint2:], y[breakpoint2:]\n",
    "\n",
    "from sklearn.ensemble import RandomForestClassifier\n",
    "rf = RandomForestClassifier(random_state = 42, max_features = math.ceil(math.sqrt(len(features))), n_estimators = 100)\n",
    "from pprint import pprint\n",
    "print('Parameters currently in use:\\n')\n",
    "pprint(rf.get_params())\n",
    "\n",
    "\n",
    "rf.fit(X_train, y_train)\n",
    "\n",
    "y_pred_dev = rf.predict(X_dev)\n",
    "y_pred_train = rf.predict(X_train)\n",
    "\n",
    "predictions_all = np.array([tree.predict(X_dev) for tree in rf.estimators_])\n",
    "\n",
    "from sklearn import metrics\n",
    "#print(\"Validation accuracy \", metrics.accuracy_score(y_dev, y_pred_dev))\n",
    "#print(\"Accuracy:\",metrics.accuracy_score(y_dev, y_pred_dev))\n",
    "print(\"Training error: \" + str(round( (1 - metrics.accuracy_score(y_train, y_pred_train) )*100, 2)) + \"%\") \n",
    "print(\"Validation error: \" + str(round( (1 - metrics.accuracy_score(y_dev, y_pred_dev) )*100, 2)) + \"%\") \n",
    "\n",
    "\n",
    "importances = list(rf.feature_importances_)\n",
    "feature_importances = [(feature, round(importance, 2)) for feature, importance in zip(features, importances)]\n",
    "feature_importances = sorted(feature_importances, key = lambda x: x[1], reverse = True)\n",
    "[print('Variable: {:20} Importance: {}'.format(*pair)) for pair in feature_importances];"
   ]
  },
  {
   "cell_type": "code",
   "execution_count": 8,
   "metadata": {},
   "outputs": [
    {
     "data": {
      "text/plain": [
       "1    -2.076828e-02\n",
       "2    -8.115768e-04\n",
       "3    -1.860354e-02\n",
       "4    -5.869944e-04\n",
       "5    -1.224566e-02\n",
       "          ...     \n",
       "75    5.967928e-07\n",
       "76    1.714594e-05\n",
       "77    4.929933e-08\n",
       "78    6.484321e-07\n",
       "79   -1.412281e-09\n",
       "Name: 741523, Length: 79, dtype: float64"
      ]
     },
     "execution_count": 8,
     "metadata": {},
     "output_type": "execute_result"
    }
   ],
   "source": [
    "X_dev.iloc[0]"
   ]
  },
  {
   "cell_type": "code",
   "execution_count": 20,
   "metadata": {},
   "outputs": [
    {
     "ename": "ValueError",
     "evalue": "cannot reshape array of size 1 into shape (79,)",
     "output_type": "error",
     "traceback": [
      "\u001b[0;31m---------------------------------------------------------------------------\u001b[0m",
      "\u001b[0;31mValueError\u001b[0m                                Traceback (most recent call last)",
      "\u001b[0;32m<ipython-input-20-9e16b6863224>\u001b[0m in \u001b[0;36m<module>\u001b[0;34m\u001b[0m\n\u001b[0;32m----> 1\u001b[0;31m \u001b[0mnp\u001b[0m\u001b[0;34m.\u001b[0m\u001b[0marray\u001b[0m\u001b[0;34m(\u001b[0m\u001b[0;34m[\u001b[0m\u001b[0mtree\u001b[0m\u001b[0;34m.\u001b[0m\u001b[0mpredict\u001b[0m\u001b[0;34m(\u001b[0m\u001b[0mnp\u001b[0m\u001b[0;34m.\u001b[0m\u001b[0marray\u001b[0m\u001b[0;34m(\u001b[0m\u001b[0mX_dev\u001b[0m\u001b[0;34m.\u001b[0m\u001b[0miloc\u001b[0m\u001b[0;34m[\u001b[0m\u001b[0;36m0\u001b[0m\u001b[0;34m,\u001b[0m\u001b[0;36m1\u001b[0m\u001b[0;34m]\u001b[0m\u001b[0;34m)\u001b[0m\u001b[0;34m.\u001b[0m\u001b[0mreshape\u001b[0m\u001b[0;34m(\u001b[0m\u001b[0;36m79\u001b[0m\u001b[0;34m)\u001b[0m\u001b[0;34m)\u001b[0m \u001b[0;32mfor\u001b[0m \u001b[0mtree\u001b[0m \u001b[0;32min\u001b[0m \u001b[0mrf\u001b[0m\u001b[0;34m.\u001b[0m\u001b[0mestimators_\u001b[0m\u001b[0;34m]\u001b[0m\u001b[0;34m)\u001b[0m\u001b[0;34m\u001b[0m\u001b[0;34m\u001b[0m\u001b[0m\n\u001b[0m",
      "\u001b[0;32m<ipython-input-20-9e16b6863224>\u001b[0m in \u001b[0;36m<listcomp>\u001b[0;34m(.0)\u001b[0m\n\u001b[0;32m----> 1\u001b[0;31m \u001b[0mnp\u001b[0m\u001b[0;34m.\u001b[0m\u001b[0marray\u001b[0m\u001b[0;34m(\u001b[0m\u001b[0;34m[\u001b[0m\u001b[0mtree\u001b[0m\u001b[0;34m.\u001b[0m\u001b[0mpredict\u001b[0m\u001b[0;34m(\u001b[0m\u001b[0mnp\u001b[0m\u001b[0;34m.\u001b[0m\u001b[0marray\u001b[0m\u001b[0;34m(\u001b[0m\u001b[0mX_dev\u001b[0m\u001b[0;34m.\u001b[0m\u001b[0miloc\u001b[0m\u001b[0;34m[\u001b[0m\u001b[0;36m0\u001b[0m\u001b[0;34m,\u001b[0m\u001b[0;36m1\u001b[0m\u001b[0;34m]\u001b[0m\u001b[0;34m)\u001b[0m\u001b[0;34m.\u001b[0m\u001b[0mreshape\u001b[0m\u001b[0;34m(\u001b[0m\u001b[0;36m79\u001b[0m\u001b[0;34m)\u001b[0m\u001b[0;34m)\u001b[0m \u001b[0;32mfor\u001b[0m \u001b[0mtree\u001b[0m \u001b[0;32min\u001b[0m \u001b[0mrf\u001b[0m\u001b[0;34m.\u001b[0m\u001b[0mestimators_\u001b[0m\u001b[0;34m]\u001b[0m\u001b[0;34m)\u001b[0m\u001b[0;34m\u001b[0m\u001b[0;34m\u001b[0m\u001b[0m\n\u001b[0m",
      "\u001b[0;31mValueError\u001b[0m: cannot reshape array of size 1 into shape (79,)"
     ]
    }
   ],
   "source": []
  },
  {
   "cell_type": "code",
   "execution_count": 18,
   "metadata": {},
   "outputs": [
    {
     "data": {
      "text/plain": [
       "(1, 79)"
      ]
     },
     "execution_count": 18,
     "metadata": {},
     "output_type": "execute_result"
    }
   ],
   "source": [
    "np.array(X_dev.iloc[0]).reshape(79)"
   ]
  },
  {
   "cell_type": "code",
   "execution_count": 21,
   "metadata": {},
   "outputs": [],
   "source": [
    "predictions_all = np.array([tree.predict(X_dev) for tree in rf.estimators_])"
   ]
  },
  {
   "cell_type": "code",
   "execution_count": null,
   "metadata": {},
   "outputs": [],
   "source": []
  },
  {
   "cell_type": "code",
   "execution_count": null,
   "metadata": {},
   "outputs": [],
   "source": []
  },
  {
   "cell_type": "code",
   "execution_count": null,
   "metadata": {},
   "outputs": [],
   "source": []
  }
 ],
 "metadata": {
  "kernelspec": {
   "display_name": "dale",
   "language": "python",
   "name": "dale"
  },
  "language_info": {
   "codemirror_mode": {
    "name": "ipython",
    "version": 3
   },
   "file_extension": ".py",
   "mimetype": "text/x-python",
   "name": "python",
   "nbconvert_exporter": "python",
   "pygments_lexer": "ipython3",
   "version": "3.6.9"
  }
 },
 "nbformat": 4,
 "nbformat_minor": 2
}
